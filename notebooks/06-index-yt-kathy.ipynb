{
 "cells": [
  {
   "cell_type": "code",
   "execution_count": 82,
   "metadata": {},
   "outputs": [],
   "source": [
    "import attr\n",
    "import os\n",
    "import spacy\n",
    "import re\n",
    "import torch\n",
    "import ujson\n",
    "\n",
    "import dateutil.parser\n",
    "import numpy as np\n",
    "import pandas as pd\n",
    "\n",
    "from annoy import AnnoyIndex\n",
    "from cached_property import cached_property\n",
    "from glob import glob\n",
    "from tqdm import tqdm_notebook\n",
    "from itertools import islice\n",
    "from boltons.iterutils import chunked_iter\n",
    "from datetime import datetime as dt\n",
    "from collections import UserDict\n",
    "\n",
    "from sent_order.models import kt_regression as kt_reg"
   ]
  },
  {
   "cell_type": "code",
   "execution_count": 26,
   "metadata": {},
   "outputs": [
    {
     "name": "stderr",
     "output_type": "stream",
     "text": [
      "/Users/dclure/Projects/infuzzy/env/lib/python3.6/site-packages/torch/serialization.py:316: SourceChangeWarning: source code of class 'torch.nn.modules.rnn.LSTM' has changed. you can retrieve the original source code by accessing the object's source attribute or set `torch.nn.Module.dump_patches = True` and use the patch tool to revert the changes.\n",
      "  warnings.warn(msg, SourceChangeWarning)\n"
     ]
    }
   ],
   "source": [
    "sent_encoder = torch.load(\n",
    "    '../../plot-ordering/data/models/new/kt-reg/sent_encoder.68.bin',\n",
    "    map_location={'cuda:0': 'cpu'}\n",
    ")"
   ]
  },
  {
   "cell_type": "code",
   "execution_count": 27,
   "metadata": {},
   "outputs": [],
   "source": [
    "nlp = spacy.load('en')\n",
    "nlp.add_pipe(nlp.create_pipe('sentencizer'))"
   ]
  },
  {
   "cell_type": "code",
   "execution_count": 28,
   "metadata": {},
   "outputs": [],
   "source": [
    "def clean_text(text):\n",
    "    return re.sub('[\\s]{2,}|\\n', ' ', text.strip())"
   ]
  },
  {
   "cell_type": "code",
   "execution_count": 29,
   "metadata": {},
   "outputs": [],
   "source": [
    "@attr.s\n",
    "class Sentence:\n",
    "    \n",
    "    text = attr.ib()\n",
    "        \n",
    "    @cached_property\n",
    "    def doc(self):\n",
    "        return nlp(self.text, disable=['parser', 'tagger', 'ner'])\n",
    "    \n",
    "    def tokens(self):\n",
    "        return [t.text for t in self.doc]\n",
    "    \n",
    "    def sent_order_x(self):\n",
    "        return kt_reg.Sentence(self.tokens()).variable()\n",
    "    \n",
    "    def embedding(self):\n",
    "        x = self.sent_order_x()\n",
    "        return sent_encoder([x])[0].data.tolist()"
   ]
  },
  {
   "cell_type": "code",
   "execution_count": 30,
   "metadata": {},
   "outputs": [],
   "source": [
    "@attr.s\n",
    "class NewspaperSegment:\n",
    "    \n",
    "    path = attr.ib()\n",
    "    \n",
    "    def text(self):\n",
    "        with open(self.path) as fh:\n",
    "            return clean_text(fh.read())\n",
    "        \n",
    "    @cached_property\n",
    "    def doc(self):\n",
    "        return nlp(self.text(), disable=['tokenizer', 'parser', 'tagger', 'ner'])\n",
    "    \n",
    "    @cached_property\n",
    "    def paper_name(self):\n",
    "        return self.path.split(os.sep)[-3]\n",
    "    \n",
    "    @cached_property\n",
    "    def date(self):\n",
    "        return dt.strptime(self.path.split(os.sep)[-2], '%m-%d-%Y')\n",
    "    \n",
    "    def sentence_texts(self):\n",
    "        for sent in self.doc.sents:\n",
    "            yield sent.text"
   ]
  },
  {
   "cell_type": "code",
   "execution_count": 56,
   "metadata": {},
   "outputs": [],
   "source": [
    "@attr.s\n",
    "class NewspaperCorpus:\n",
    "    \n",
    "    root = attr.ib()\n",
    "    \n",
    "    def paths(self):\n",
    "        return glob(os.path.join(self.root, '**/*.txt'), recursive=True)\n",
    "    \n",
    "    def segments(self):\n",
    "        for path in tqdm_notebook(self.paths()):\n",
    "            yield NewspaperSegment(path)\n",
    "            \n",
    "    def df_rows(self):\n",
    "        for segment in self.segments():\n",
    "            for text in segment.sentence_texts():\n",
    "                yield dict(paper_name=segment.paper_name, date=segment.date, text=text)\n",
    "                \n",
    "    def df(self, skim=None):\n",
    "        return pd.DataFrame(list(islice(self.df_rows(), skim)))"
   ]
  },
  {
   "cell_type": "code",
   "execution_count": 94,
   "metadata": {},
   "outputs": [],
   "source": [
    "class YoutubeTranscript(UserDict):\n",
    "    \n",
    "    @classmethod\n",
    "    def from_path(cls, path):\n",
    "        with open(path) as fh:\n",
    "            return cls(ujson.load(fh))\n",
    "        \n",
    "    @cached_property\n",
    "    def doc(self):\n",
    "        return nlp(self['transcript'], disable=['parser', 'tagger', 'ner'])\n",
    "    \n",
    "    @cached_property\n",
    "    def published_at(self):\n",
    "        return dateutil.parser.parse(self['published_at'])\n",
    "    \n",
    "    def sentence_texts(self, size=20):\n",
    "        for chunk in chunked_iter(self.doc, 20):\n",
    "            yield ' '.join([t.text for t in chunk])"
   ]
  },
  {
   "cell_type": "code",
   "execution_count": 95,
   "metadata": {},
   "outputs": [],
   "source": [
    "@attr.s\n",
    "class YoutubeCorpus:\n",
    "    \n",
    "    root = attr.ib()\n",
    "    \n",
    "    def paths(self):\n",
    "        return glob(os.path.join(self.root, '**/*.json'), recursive=True)\n",
    "    \n",
    "    def transcripts(self):\n",
    "        for path in tqdm_notebook(self.paths()):\n",
    "            yield YoutubeTranscript.from_path(path)\n",
    "            \n",
    "    def df_rows(self):\n",
    "        for transcript in self.transcripts():\n",
    "            for text in transcript.sentence_texts():\n",
    "                yield dict(\n",
    "                    channel_title=transcript['channel_title'], \n",
    "                    title=transcript['title'], \n",
    "                    published_at=transcript.published_at,\n",
    "                    text=text,\n",
    "                )\n",
    "                \n",
    "    def df(self):\n",
    "        return pd.DataFrame(list(self.df_rows()))"
   ]
  },
  {
   "cell_type": "code",
   "execution_count": 96,
   "metadata": {},
   "outputs": [],
   "source": [
    "def build_index(text_series):\n",
    "    \n",
    "    sent_idx = AnnoyIndex(1000)\n",
    "\n",
    "    id_text = list(text_series.iteritems())\n",
    "\n",
    "    for chunk in chunked_iter(tqdm_notebook(id_text), 100):\n",
    "\n",
    "        ids, texts = zip(*chunk)\n",
    "\n",
    "        x = [Sentence(t).sent_order_x() for t in texts]\n",
    "        x = sent_encoder(x)\n",
    "\n",
    "        for i, v in zip(ids, x):\n",
    "            sent_idx.add_item(i, v.data.tolist())\n",
    "\n",
    "    sent_idx.build(10)\n",
    "    \n",
    "    return sent_idx"
   ]
  },
  {
   "cell_type": "code",
   "execution_count": 70,
   "metadata": {},
   "outputs": [],
   "source": [
    "news_corpus = NewspaperCorpus('../data/kathy2012/newspapers2012/')"
   ]
  },
  {
   "cell_type": "code",
   "execution_count": 71,
   "metadata": {},
   "outputs": [
    {
     "data": {
      "application/vnd.jupyter.widget-view+json": {
       "model_id": "9ebb6fdb16ca4712823604047171275a",
       "version_major": 2,
       "version_minor": 0
      },
      "text/html": [
       "<p>Failed to display Jupyter Widget of type <code>HBox</code>.</p>\n",
       "<p>\n",
       "  If you're reading this message in the Jupyter Notebook or JupyterLab Notebook, it may mean\n",
       "  that the widgets JavaScript is still loading. If this message persists, it\n",
       "  likely means that the widgets JavaScript library is either not installed or\n",
       "  not enabled. See the <a href=\"https://ipywidgets.readthedocs.io/en/stable/user_install.html\">Jupyter\n",
       "  Widgets Documentation</a> for setup instructions.\n",
       "</p>\n",
       "<p>\n",
       "  If you're reading this message in another frontend (for example, a static\n",
       "  rendering on GitHub or <a href=\"https://nbviewer.jupyter.org/\">NBViewer</a>),\n",
       "  it may mean that your frontend doesn't currently support widgets.\n",
       "</p>\n"
      ],
      "text/plain": [
       "HBox(children=(IntProgress(value=0, max=7437), HTML(value='')))"
      ]
     },
     "metadata": {},
     "output_type": "display_data"
    },
    {
     "name": "stdout",
     "output_type": "stream",
     "text": [
      "\n"
     ]
    }
   ],
   "source": [
    "news_df = news_corpus.df(10000)"
   ]
  },
  {
   "cell_type": "code",
   "execution_count": 73,
   "metadata": {},
   "outputs": [
    {
     "data": {
      "application/vnd.jupyter.widget-view+json": {
       "model_id": "72f9f0f661c34179b1111e47cc6df64c",
       "version_major": 2,
       "version_minor": 0
      },
      "text/html": [
       "<p>Failed to display Jupyter Widget of type <code>HBox</code>.</p>\n",
       "<p>\n",
       "  If you're reading this message in the Jupyter Notebook or JupyterLab Notebook, it may mean\n",
       "  that the widgets JavaScript is still loading. If this message persists, it\n",
       "  likely means that the widgets JavaScript library is either not installed or\n",
       "  not enabled. See the <a href=\"https://ipywidgets.readthedocs.io/en/stable/user_install.html\">Jupyter\n",
       "  Widgets Documentation</a> for setup instructions.\n",
       "</p>\n",
       "<p>\n",
       "  If you're reading this message in another frontend (for example, a static\n",
       "  rendering on GitHub or <a href=\"https://nbviewer.jupyter.org/\">NBViewer</a>),\n",
       "  it may mean that your frontend doesn't currently support widgets.\n",
       "</p>\n"
      ],
      "text/plain": [
       "HBox(children=(IntProgress(value=0, max=10000), HTML(value='')))"
      ]
     },
     "metadata": {},
     "output_type": "display_data"
    },
    {
     "name": "stdout",
     "output_type": "stream",
     "text": [
      "\n"
     ]
    }
   ],
   "source": [
    "news_idx = build_index(news_df['text'])"
   ]
  },
  {
   "cell_type": "code",
   "execution_count": 97,
   "metadata": {},
   "outputs": [],
   "source": [
    "yt_corpus = YoutubeCorpus('../data/kathy2012/youtube2012/')"
   ]
  },
  {
   "cell_type": "code",
   "execution_count": 98,
   "metadata": {},
   "outputs": [
    {
     "data": {
      "application/vnd.jupyter.widget-view+json": {
       "model_id": "4bf6d4f802ec4f0dbd01d8ce3b6c18bf",
       "version_major": 2,
       "version_minor": 0
      },
      "text/html": [
       "<p>Failed to display Jupyter Widget of type <code>HBox</code>.</p>\n",
       "<p>\n",
       "  If you're reading this message in the Jupyter Notebook or JupyterLab Notebook, it may mean\n",
       "  that the widgets JavaScript is still loading. If this message persists, it\n",
       "  likely means that the widgets JavaScript library is either not installed or\n",
       "  not enabled. See the <a href=\"https://ipywidgets.readthedocs.io/en/stable/user_install.html\">Jupyter\n",
       "  Widgets Documentation</a> for setup instructions.\n",
       "</p>\n",
       "<p>\n",
       "  If you're reading this message in another frontend (for example, a static\n",
       "  rendering on GitHub or <a href=\"https://nbviewer.jupyter.org/\">NBViewer</a>),\n",
       "  it may mean that your frontend doesn't currently support widgets.\n",
       "</p>\n"
      ],
      "text/plain": [
       "HBox(children=(IntProgress(value=0, max=88), HTML(value='')))"
      ]
     },
     "metadata": {},
     "output_type": "display_data"
    },
    {
     "name": "stdout",
     "output_type": "stream",
     "text": [
      "\n"
     ]
    }
   ],
   "source": [
    "yt_df = yt_corpus.df()"
   ]
  },
  {
   "cell_type": "code",
   "execution_count": 99,
   "metadata": {},
   "outputs": [
    {
     "data": {
      "application/vnd.jupyter.widget-view+json": {
       "model_id": "f74d297d975f46189d20ac6c9f382358",
       "version_major": 2,
       "version_minor": 0
      },
      "text/html": [
       "<p>Failed to display Jupyter Widget of type <code>HBox</code>.</p>\n",
       "<p>\n",
       "  If you're reading this message in the Jupyter Notebook or JupyterLab Notebook, it may mean\n",
       "  that the widgets JavaScript is still loading. If this message persists, it\n",
       "  likely means that the widgets JavaScript library is either not installed or\n",
       "  not enabled. See the <a href=\"https://ipywidgets.readthedocs.io/en/stable/user_install.html\">Jupyter\n",
       "  Widgets Documentation</a> for setup instructions.\n",
       "</p>\n",
       "<p>\n",
       "  If you're reading this message in another frontend (for example, a static\n",
       "  rendering on GitHub or <a href=\"https://nbviewer.jupyter.org/\">NBViewer</a>),\n",
       "  it may mean that your frontend doesn't currently support widgets.\n",
       "</p>\n"
      ],
      "text/plain": [
       "HBox(children=(IntProgress(value=0, max=1735), HTML(value='')))"
      ]
     },
     "metadata": {},
     "output_type": "display_data"
    },
    {
     "name": "stdout",
     "output_type": "stream",
     "text": [
      "\n"
     ]
    }
   ],
   "source": [
    "yt_idx = build_index(yt_df['text'])"
   ]
  },
  {
   "cell_type": "code",
   "execution_count": 76,
   "metadata": {},
   "outputs": [],
   "source": [
    "def query(df, idx, text, n=10):\n",
    "    for ri in idx.get_nns_by_vector(Sentence(text).embedding(), n):\n",
    "        print(df.iloc[ri].text, '\\n')"
   ]
  },
  {
   "cell_type": "code",
   "execution_count": 77,
   "metadata": {},
   "outputs": [
    {
     "name": "stdout",
     "output_type": "stream",
     "text": [
      "We have to be thoughtful about it.’’ \n",
      "\n",
      "We think the savings are real.’’ \n",
      "\n",
      "We keep it low-key and I'm surrounded by the unconditional love I craved as a child. \n",
      "\n",
      "And we’ve got smart guys that they want it, they almost need it. \n",
      "\n",
      "We the people have lost control. \n",
      "\n",
      "We have so many lost souls in here. \n",
      "\n",
      "We need to make sure that changes to our mining laws continue that tradition. \n",
      "\n",
      "We need to make sure that changes to our mining laws continue that tradition. \n",
      "\n",
      "We need the people in the state to have jobs, to work,’’ he said. \n",
      "\n",
      "We need that money to come up here. \n",
      "\n"
     ]
    }
   ],
   "source": [
    "query(news_df, news_idx, \"We have to act now to stop climate change.\")"
   ]
  },
  {
   "cell_type": "code",
   "execution_count": 102,
   "metadata": {},
   "outputs": [
    {
     "name": "stdout",
     "output_type": "stream",
     "text": [
      "it is the largest city the most important city in terms of elections and so it really is good to \n",
      "\n",
      "this are you waiting for friends you walk it in should we walk in yeah what grade you 're going \n",
      "\n",
      "always has been with the states should it be I mean you know I know it always has been absolutely \n",
      "\n",
      "this bill was cynically transformed from a memorial resolution to an endorsement of President Bush 's failed policies the Republicans \n",
      "\n",
      "to be open to they 're going to require college degrees to get those so we got to find a \n",
      "\n",
      "important this election is to real life to President Barack Obama and select me to the United States Senate because \n",
      "\n",
      "this little piece out there at all by the way we 're talking about this before in terms of some \n",
      "\n",
      "this is the building blocks begin here and not only to the staff but to all of us who are \n",
      "\n",
      "the people listening to this speech tonight may not have voted for me but I want you to know that \n",
      "\n",
      "back to the start of this incredible country today we remember their lives their spirit and their commitment but we \n",
      "\n"
     ]
    }
   ],
   "source": [
    "query(yt_df, yt_idx, \"This is terrible.\")"
   ]
  },
  {
   "cell_type": "code",
   "execution_count": null,
   "metadata": {},
   "outputs": [],
   "source": []
  }
 ],
 "metadata": {
  "kernelspec": {
   "display_name": "Python 3",
   "language": "python",
   "name": "python3"
  },
  "language_info": {
   "codemirror_mode": {
    "name": "ipython",
    "version": 3
   },
   "file_extension": ".py",
   "mimetype": "text/x-python",
   "name": "python",
   "nbconvert_exporter": "python",
   "pygments_lexer": "ipython3",
   "version": "3.6.2"
  }
 },
 "nbformat": 4,
 "nbformat_minor": 2
}
