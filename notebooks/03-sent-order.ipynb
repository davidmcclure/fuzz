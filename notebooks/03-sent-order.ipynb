{
 "cells": [
  {
   "cell_type": "code",
   "execution_count": 140,
   "metadata": {},
   "outputs": [],
   "source": [
    "import attr\n",
    "import os\n",
    "import spacy\n",
    "import re\n",
    "import torch\n",
    "\n",
    "import numpy as np\n",
    "\n",
    "from annoy import AnnoyIndex\n",
    "from cached_property import cached_property\n",
    "from glob import glob\n",
    "from tqdm import tqdm_notebook\n",
    "from itertools import islice\n",
    "from boltons.iterutils import chunked_iter\n",
    "\n",
    "from sent_order.models import kt_regression as kt_reg"
   ]
  },
  {
   "cell_type": "code",
   "execution_count": 141,
   "metadata": {},
   "outputs": [
    {
     "name": "stderr",
     "output_type": "stream",
     "text": [
      "/Users/dclure/Projects/infuzzy/env/lib/python3.6/site-packages/torch/serialization.py:316: SourceChangeWarning: source code of class 'torch.nn.modules.rnn.LSTM' has changed. you can retrieve the original source code by accessing the object's source attribute or set `torch.nn.Module.dump_patches = True` and use the patch tool to revert the changes.\n",
      "  warnings.warn(msg, SourceChangeWarning)\n"
     ]
    }
   ],
   "source": [
    "sent_encoder = torch.load(\n",
    "    '../../plot-ordering/data/models/new/kt-reg/sent_encoder.68.bin',\n",
    "    map_location={'cuda:0': 'cpu'}\n",
    ")"
   ]
  },
  {
   "cell_type": "code",
   "execution_count": 142,
   "metadata": {},
   "outputs": [],
   "source": [
    "nlp = spacy.load('en')\n",
    "nlp.add_pipe(nlp.create_pipe('sentencizer'))"
   ]
  },
  {
   "cell_type": "code",
   "execution_count": 143,
   "metadata": {},
   "outputs": [],
   "source": [
    "def clean_text(text):\n",
    "    return re.sub('[\\s]{2,}|\\n', ' ', text.strip())"
   ]
  },
  {
   "cell_type": "code",
   "execution_count": 144,
   "metadata": {},
   "outputs": [],
   "source": [
    "@attr.s\n",
    "class Sentence:\n",
    "    \n",
    "    text = attr.ib()\n",
    "        \n",
    "    @cached_property\n",
    "    def doc(self):\n",
    "        return nlp(self.text, disable=['parser', 'tagger', 'ner'])\n",
    "    \n",
    "    def tokens(self):\n",
    "        return [t.text for t in self.doc]\n",
    "    \n",
    "    def sent_order_variable(self):\n",
    "        return kt_reg.Sentence(self.tokens()).variable()\n",
    "    \n",
    "    def sent_order_vector(self):\n",
    "        x = self.sent_order_variable()\n",
    "        return sent_encoder([x])[0].data.tolist()"
   ]
  },
  {
   "cell_type": "code",
   "execution_count": 145,
   "metadata": {},
   "outputs": [],
   "source": [
    "@attr.s\n",
    "class Segment:\n",
    "    \n",
    "    path = attr.ib()\n",
    "    \n",
    "    def text(self):\n",
    "        with open(self.path) as fh:\n",
    "            return clean_text(fh.read())\n",
    "        \n",
    "    @cached_property\n",
    "    def doc(self):\n",
    "        return nlp(self.text(), disable=['tokenizer', 'parser', 'tagger', 'ner'])\n",
    "    \n",
    "    def sentences(self):\n",
    "        for sent in self.doc.sents:\n",
    "            yield Sentence(sent.text)"
   ]
  },
  {
   "cell_type": "code",
   "execution_count": 146,
   "metadata": {},
   "outputs": [],
   "source": [
    "@attr.s\n",
    "class NewspaperCorpus:\n",
    "    \n",
    "    root = attr.ib()\n",
    "    \n",
    "    def paths(self):\n",
    "        return glob(os.path.join(self.root, '**/*.txt'), recursive=True)\n",
    "    \n",
    "    def segments(self):\n",
    "        for path in tqdm_notebook(self.paths()):\n",
    "            yield Segment(path)\n",
    "            \n",
    "    def sentences(self):\n",
    "        for segment in self.segments():\n",
    "            yield from segment.sentences()"
   ]
  },
  {
   "cell_type": "code",
   "execution_count": 147,
   "metadata": {},
   "outputs": [],
   "source": [
    "c = NewspaperCorpus('../data/kathy2012/newspapers2012/')"
   ]
  },
  {
   "cell_type": "code",
   "execution_count": 148,
   "metadata": {},
   "outputs": [
    {
     "data": {
      "application/vnd.jupyter.widget-view+json": {
       "model_id": "2f3cb8ccd2484735938e1dfd50d696a9",
       "version_major": 2,
       "version_minor": 0
      },
      "text/html": [
       "<p>Failed to display Jupyter Widget of type <code>HBox</code>.</p>\n",
       "<p>\n",
       "  If you're reading this message in the Jupyter Notebook or JupyterLab Notebook, it may mean\n",
       "  that the widgets JavaScript is still loading. If this message persists, it\n",
       "  likely means that the widgets JavaScript library is either not installed or\n",
       "  not enabled. See the <a href=\"https://ipywidgets.readthedocs.io/en/stable/user_install.html\">Jupyter\n",
       "  Widgets Documentation</a> for setup instructions.\n",
       "</p>\n",
       "<p>\n",
       "  If you're reading this message in another frontend (for example, a static\n",
       "  rendering on GitHub or <a href=\"https://nbviewer.jupyter.org/\">NBViewer</a>),\n",
       "  it may mean that your frontend doesn't currently support widgets.\n",
       "</p>\n"
      ],
      "text/plain": [
       "HBox(children=(IntProgress(value=0, max=7437), HTML(value='')))"
      ]
     },
     "metadata": {},
     "output_type": "display_data"
    }
   ],
   "source": [
    "sents = {\n",
    "    i: sent\n",
    "    for i, sent in enumerate(islice(c.sentences(), 500000))\n",
    "}"
   ]
  },
  {
   "cell_type": "code",
   "execution_count": 149,
   "metadata": {},
   "outputs": [
    {
     "data": {
      "text/plain": [
       "500000"
      ]
     },
     "execution_count": 149,
     "metadata": {},
     "output_type": "execute_result"
    }
   ],
   "source": [
    "len(sents)"
   ]
  },
  {
   "cell_type": "code",
   "execution_count": 150,
   "metadata": {},
   "outputs": [
    {
     "data": {
      "application/vnd.jupyter.widget-view+json": {
       "model_id": "e1083b2546694c3fb5846e38e453642a",
       "version_major": 2,
       "version_minor": 0
      },
      "text/html": [
       "<p>Failed to display Jupyter Widget of type <code>HBox</code>.</p>\n",
       "<p>\n",
       "  If you're reading this message in the Jupyter Notebook or JupyterLab Notebook, it may mean\n",
       "  that the widgets JavaScript is still loading. If this message persists, it\n",
       "  likely means that the widgets JavaScript library is either not installed or\n",
       "  not enabled. See the <a href=\"https://ipywidgets.readthedocs.io/en/stable/user_install.html\">Jupyter\n",
       "  Widgets Documentation</a> for setup instructions.\n",
       "</p>\n",
       "<p>\n",
       "  If you're reading this message in another frontend (for example, a static\n",
       "  rendering on GitHub or <a href=\"https://nbviewer.jupyter.org/\">NBViewer</a>),\n",
       "  it may mean that your frontend doesn't currently support widgets.\n",
       "</p>\n"
      ],
      "text/plain": [
       "HBox(children=(IntProgress(value=0, max=500000), HTML(value='')))"
      ]
     },
     "metadata": {},
     "output_type": "display_data"
    },
    {
     "name": "stdout",
     "output_type": "stream",
     "text": [
      "\n"
     ]
    },
    {
     "name": "stderr",
     "output_type": "stream",
     "text": [
      "Exception in thread Thread-25:\n",
      "Traceback (most recent call last):\n",
      "  File \"/usr/local/Cellar/python3/3.6.2/Frameworks/Python.framework/Versions/3.6/lib/python3.6/threading.py\", line 916, in _bootstrap_inner\n",
      "    self.run()\n",
      "  File \"/Users/dclure/Projects/infuzzy/env/lib/python3.6/site-packages/tqdm/_tqdm.py\", line 144, in run\n",
      "    for instance in self.tqdm_cls._instances:\n",
      "  File \"/usr/local/bin/../Cellar/python3/3.6.2/bin/../Frameworks/Python.framework/Versions/3.6/lib/python3.6/_weakrefset.py\", line 60, in __iter__\n",
      "    for itemref in self.data:\n",
      "RuntimeError: Set changed size during iteration\n",
      "\n"
     ]
    },
    {
     "name": "stdout",
     "output_type": "stream",
     "text": [
      "\n"
     ]
    },
    {
     "data": {
      "text/plain": [
       "True"
      ]
     },
     "execution_count": 150,
     "metadata": {},
     "output_type": "execute_result"
    }
   ],
   "source": [
    "vidx = AnnoyIndex(1000)\n",
    "\n",
    "for chunk in chunked_iter(tqdm_notebook(sents.items()), 1000):\n",
    "    \n",
    "    idxs, sents_ = zip(*chunk)\n",
    "    \n",
    "    x = [s.sent_order_variable() for s in sents_]\n",
    "    x = sent_encoder(x)\n",
    "    \n",
    "    for i, v in zip(idxs, x):\n",
    "        vidx.add_item(i, v.data.tolist())\n",
    "    \n",
    "vidx.build(10)"
   ]
  },
  {
   "cell_type": "code",
   "execution_count": 153,
   "metadata": {},
   "outputs": [],
   "source": [
    "def query(text, n=10):\n",
    "    sent = Sentence(text)\n",
    "    for ri in vidx.get_nns_by_vector(sent.sent_order_vector(), n):\n",
    "        print(sents[ri].text, '\\n')"
   ]
  },
  {
   "cell_type": "code",
   "execution_count": 156,
   "metadata": {},
   "outputs": [
    {
     "name": "stdout",
     "output_type": "stream",
     "text": [
      "I think we are witnessing another example of the abuses that have been going on for a long time behind the closed doors of our public school system! \n",
      "\n",
      "I think we need to simplify our tax system. \n",
      "\n",
      "I think our friends are OK with it, too,” Larry said. “ \n",
      "\n",
      "I think our guys do a good job of it.” \n",
      "\n",
      "I know the board has been working on it with consultants, but I believe we should also get input from every- body, including the teachers and taxpayers.” \n",
      "\n",
      "I regret having to pass a portion of these cuts on to students and their families because I know they also are struggling,” Muir said. “ \n",
      "\n",
      "I don’t think we should be forced to do it,” Adams said when he heard about the proposed electronic database. “ \n",
      "\n",
      "I owe my life to them, and now I must deny them the right to vote! \n",
      "\n",
      "I personally will go there less often at the new location because I do not drive that way. \n",
      "\n",
      "I know the president has said he will do those things. \n",
      "\n"
     ]
    }
   ],
   "source": [
    "query(\"I mean our kids are really well educated, but we need to take politics out of the education system.\")"
   ]
  },
  {
   "cell_type": "code",
   "execution_count": 154,
   "metadata": {},
   "outputs": [
    {
     "name": "stdout",
     "output_type": "stream",
     "text": [
      "I want to assure you that this was not simply a campaign gim- mick, it is the honest truth and it is very much who I am. \n",
      "\n",
      "My biggest concern though, frankly, isn’t the optics of it but whether it’s fair or not to the young men and young women,” he said in Feb- ruary. “ \n",
      "\n",
      "I think the reason you don’t see any such criti- cism is because the “looney right” is such an impor- tant part of the Republican base that they are afraid to anger Rush Limbaugh, Sean Hannity, and such. \n",
      "\n",
      "My gut instinct is that no, it shouldn’t be used in hamburgers. \n",
      "\n",
      "I want him to enjoy what he can now, as there will come a time when he can’t. — \n",
      "\n",
      "I want them to know there are real options out there to relieve the pain, and I want them to use those options. \n",
      "\n",
      "My sense is, why not use it? \n",
      "\n",
      "My sense is, why not use it? \n",
      "\n",
      "I call that avoiding your responsibilities, something my family doesn’t do. \n",
      "\n",
      "I know the president has said he will do those things. \n",
      "\n"
     ]
    }
   ],
   "source": [
    "query(\"my major concern is the fact that we're just going to pass this debt on to the kids, and I think that's embarrassing.\")"
   ]
  },
  {
   "cell_type": "code",
   "execution_count": 155,
   "metadata": {},
   "outputs": [
    {
     "name": "stdout",
     "output_type": "stream",
     "text": [
      "I think it’s a great chance for the kids to get out in the community,” he said. “ \n",
      "\n",
      "I wish we could thank each of you personally for your dona- tions and for your support of these fine students. \n",
      "\n",
      "I think they’ve to some degree employed a “gin up the base” strategy, which might ultimately keep Walker in the governor’s mansion but isn’t what a lot of voters signed up for. \n",
      "\n",
      "I think it reflects the hard work of a very dedicated team, and also a very good understanding and positive working rela- tionship that we’ve had with the city.” \n",
      "\n",
      "I wish I could do that in my business but I can’t because I don’t have the govern- ment giving me free money! \n",
      "\n",
      "I do think it is a prime example of the wolf in sheep clothing putting his own private agenda before all those people in the know. \n",
      "\n",
      "I wish all the money they spent on those ads was going to the schools, going to the homeless and going to social services in- stead of making these irritating political ads.” \n",
      "\n",
      "I hope all votes are based on facts and a sense of con- nectivity with candidates’ beliefs, qualifications and character, and not emotion. \n",
      "\n",
      "I wish it wouldn’t have happened, but it did. \n",
      "\n",
      "I think in the case of everyone but the gover- nor, the leaks need to just stop. \n",
      "\n"
     ]
    }
   ],
   "source": [
    "query(\"I wish both sides would work together and accomplish something instead of being on the campaign trail all the time.\")"
   ]
  },
  {
   "cell_type": "code",
   "execution_count": 157,
   "metadata": {},
   "outputs": [
    {
     "name": "stdout",
     "output_type": "stream",
     "text": [
      "The business office was broken into and not any of Broadway Limousine’s vehi- cles, Pederson said. \n",
      "\n",
      "The river was high enough, but not too high,” Benike said. “ \n",
      "\n",
      "The medical board was apparently never con- tacted by Scouting offi- cials or law enforcement in the 1980s. \n",
      "\n",
      "The fire apparently started in a lower level of the duplex, where sever- al electronic devices were plugged in. \n",
      "\n",
      "The law was in effect for the February elections de- spite numerous lawsuits challenging it. \n",
      "\n",
      "The general was ada- mant there was no politi- cization of the process, no White House interference or political agenda,” said Rep. Adam Schiff, D-Calif. “ \n",
      "\n",
      "The election was particularly important because Franken’s vic- tory gave Senate Democrats a 60th vote in favor of President Barack Obama’s national health care pro- posal — the deciding vote to over- come a Republican filibuster. \n",
      "\n",
      "The Mexican government was not notified the pro- gram existed. \n",
      "\n",
      "The law was in effect for the February election despite numerous lawsuits challenging it. \n",
      "\n",
      "The Tea Party has been demonized by main- stream media. \n",
      "\n"
     ]
    }
   ],
   "source": [
    "query(\"The government was not meant to run health insurance.\")"
   ]
  },
  {
   "cell_type": "code",
   "execution_count": 158,
   "metadata": {},
   "outputs": [
    {
     "name": "stdout",
     "output_type": "stream",
     "text": [
      "There's a possibility that, if and when he gets up here, he might remember things,\" Wegner said last week. \" \n",
      "\n",
      "There’s too much at stake to drop it now. \n",
      "\n",
      "There’s no saying for sure what’s causing the diseases in what is still a relatively small percentage of the fish. \n",
      "\n",
      "There’s going to have to be changes made to get Dale’s vote,’’ Welhouse said. ‘‘ \n",
      "\n",
      "There’s going to have to be changes made to get Dale’s vote,” Welhouse said. “ \n",
      "\n",
      "There’s going to have to be changes made to get Dale’s vote,” Welhouse said. “ \n",
      "\n",
      "There will be some ‘maybes’ and some disagree- ments,” he said. “ \n",
      "\n",
      "There’s nothing wrong with asking our employees to shoulder a larger portion of the costs of their benefits, he said. “ \n",
      "\n",
      "There should be no fireworks anywhere, for any reason. \n",
      "\n",
      "There is a con- cern that overseas security doesn’t match ours. \n",
      "\n"
     ]
    }
   ],
   "source": [
    "query(\"There has to be respect for your job and the rules and your employers.\")"
   ]
  },
  {
   "cell_type": "code",
   "execution_count": 159,
   "metadata": {},
   "outputs": [
    {
     "name": "stdout",
     "output_type": "stream",
     "text": [
      "This is excellent. \n",
      "\n",
      "This makes us feel wonderful. \n",
      "\n",
      "This is just so wonderful.” \n",
      "\n",
      "This is just so wonderful.” \n",
      "\n",
      "This is perfect. \n",
      "\n",
      "This is good, good education policy reform.” \n",
      "\n",
      "This is great for children, grandchildren, best friends and families. \n",
      "\n",
      "This is amazing,” he said. “ \n",
      "\n",
      "This is very exciting,” Miller said. “ \n",
      "\n",
      "This is a great opportu- nity for us today,” Walker said. “ \n",
      "\n"
     ]
    }
   ],
   "source": [
    "query(\"This is wonderful.\")"
   ]
  },
  {
   "cell_type": "code",
   "execution_count": 172,
   "metadata": {},
   "outputs": [
    {
     "name": "stdout",
     "output_type": "stream",
     "text": [
      "This is horrible. \n",
      "\n",
      "This is unacceptable. \n",
      "\n",
      "This is horrible …” Williamson said. “ \n",
      "\n",
      "This is troubling. \n",
      "\n",
      "This is amazing,” he said. “ \n",
      "\n",
      "This is a particularly bad time to pass a tax that hits downtown busi- ness,” he said. “ \n",
      "\n",
      "This obviously is one category in which being below average feels good. \n",
      "\n",
      "This is wish- ful thinking at best. \n",
      "\n",
      "This is just so wonderful.” \n",
      "\n",
      "This is just so wonderful.” \n",
      "\n"
     ]
    }
   ],
   "source": [
    "query(\"This is terrible.\")"
   ]
  },
  {
   "cell_type": "code",
   "execution_count": 160,
   "metadata": {},
   "outputs": [
    {
     "name": "stdout",
     "output_type": "stream",
     "text": [
      "My father had diabetes, and I watched its progress for 21 years. \n",
      "\n",
      "That was 40 years ago. \n",
      "\n",
      "That’s 12 years ago. \n",
      "\n",
      "It’s a far cry from just a few years ago. \n",
      "\n",
      "Her participation in the Fulbright Program makes her one of the 111,000 Americans who have been part of the program since its start more than 60 years ago. \n",
      "\n",
      "It’s been struggling over the last few years. \n",
      "\n",
      "That happened 85 years ago. \n",
      "\n",
      "My father was right about one thing: The military robots aren’t carrying the colors of the Venus Interplanetary Expedition forces, but those of the U.S. Army. \n",
      "\n",
      "The massive tree succumbed to Dutch elm disease and was cut down two years ago. \n",
      "\n",
      "So I say ﬁ ve years ago. \n",
      "\n"
     ]
    }
   ],
   "source": [
    "query(\"My God, I've been here almost forty years.\")"
   ]
  },
  {
   "cell_type": "code",
   "execution_count": 161,
   "metadata": {},
   "outputs": [
    {
     "name": "stdout",
     "output_type": "stream",
     "text": [
      "The need for something like this is apparent, and it’s so inspiring to see it recognized by so many in the community.” \n",
      "\n",
      "A mandate on individuals recog- nizes this implicit contract.” \n",
      "\n",
      "The federal government has no business doing this,” he said. \n",
      "\n",
      "The way this is right now it’s going to be the way I feel on Election Day, unless something comes out of the box to sway me,” the 50-year-old said. “ \n",
      "\n",
      "After going over this do you believe his plan is a smart buy? \n",
      "\n",
      "The difficulty with laws like this is the understanding that medicine is, for all that it is, not an exact science. \n",
      "\n",
      "The cost of the storm is incalculable at this point.” \n",
      "\n",
      "It’s not going to happen this election cycle, and that’s a huge challenge for our democracy. \n",
      "\n",
      "One may wonder how all of this volunteer time is spent. \n",
      "\n",
      "It is not year clear, at this stage of the process, how the sanctions could affect gasoline prices. \n",
      "\n"
     ]
    }
   ],
   "source": [
    "query(\"The money going into this campaign is so frustrating to see.\")"
   ]
  },
  {
   "cell_type": "code",
   "execution_count": 162,
   "metadata": {},
   "outputs": [
    {
     "name": "stdout",
     "output_type": "stream",
     "text": [
      "Well, we do care. \n",
      "\n",
      "Well, that’s my opinion and I’m sticking to it. \n",
      "\n",
      "Actually, I’m trying to lose several. \n",
      "\n",
      "Well, folks, I’m sorry to say it’s not coming back. \n",
      "\n",
      "I’m going to try and get America healthier again because 138 million Ameri- cans have one or more chronic illnesses. \n",
      "\n",
      "I really understand I’ll never be up here again. \n",
      "\n",
      "I’m going to keep doing it. \n",
      "\n",
      "Well, that’s the same thing the fed- eral government is doing right now. \n",
      "\n",
      "We reconnected via the Internet and have become close again. \n",
      "\n",
      "I’m going to do everything in my power to get it done and ﬁ gure out a way to have a balance. \n",
      "\n"
     ]
    }
   ],
   "source": [
    "query(\"Well, I don't see the economy recovering real quickly.\")"
   ]
  },
  {
   "cell_type": "code",
   "execution_count": 163,
   "metadata": {},
   "outputs": [
    {
     "name": "stdout",
     "output_type": "stream",
     "text": [
      "So if Romney and Ryan want to make laws and not just speeches, they will have to compromise. \n",
      "\n",
      "So it was just a logi- cal, no-brainer to take that down. \n",
      "\n",
      "So we obviously have a dif- ferent opinion and a differ- ent way of looking at spending and how to serve the taxpayers.” \n",
      "\n",
      "And on a weekday when many people couldn’t attend unless they took off work. \n",
      "\n",
      "So where are we Americans, post-conven- tion, in this quadrennial election process? \n",
      "\n",
      "So the presi- dent, and I think all of us here, don’t like the fact that people have to die. \n",
      "\n",
      "And so the media narrative boils it all down into easy- to-understand parables, sometimes about race. \n",
      "\n",
      "So I think it’s important for his teammates to maybe speak for him at times. \n",
      "\n",
      "And we’re careful not to have too many irons in the fire and shortchange any- one because we still want to have fun in retirement.” \n",
      "\n",
      "So right now it’s just shadowy allegations or aides who allegedly did bad things. \n",
      "\n"
     ]
    }
   ],
   "source": [
    "query(\"So it seems like government in general is kind of unresponsive to your concerns.\")"
   ]
  },
  {
   "cell_type": "code",
   "execution_count": 164,
   "metadata": {},
   "outputs": [
    {
     "name": "stdout",
     "output_type": "stream",
     "text": [
      "They should attempt to resolve them by communicating with each other — preferably with the help of a licensed marriage counselor. \n",
      "\n",
      "They will be in their “punishment” phase when they do. \n",
      "\n",
      "They see instead their own supersti- tions and suppositions, paranoia and guilt, night terrors and vulnerabili- ties. \n",
      "\n",
      "They’re going to make up their own numbers.” \n",
      "\n",
      "They’re going to make up their own numbers.” \n",
      "\n",
      "They’re going to make up their own numbers.’’ \n",
      "\n",
      "They should be centered on the massive problems which face this country. \n",
      "\n",
      "They just need somebody who knows what they’re going through. “ \n",
      "\n",
      "They need to be that way for sur- vival in today’s society. \n",
      "\n",
      "They should focus on the people in need,” he said. “ \n",
      "\n"
     ]
    }
   ],
   "source": [
    "query(\"They should mind their own business.\")"
   ]
  },
  {
   "cell_type": "code",
   "execution_count": 173,
   "metadata": {},
   "outputs": [
    {
     "name": "stdout",
     "output_type": "stream",
     "text": [
      "I took to drumming like a fish to water,” Armato said. “ \n",
      "\n",
      "I moved out of state when I turned 18, but Tara still lives there. \n",
      "\n",
      "I fell in love with the staff – they’re the reason the momentum is there and the reason the library won Library of the Year in 2011, and we can work as a team to really strive to new heights.” \n",
      "\n",
      "I just walked over and had a peep and took some pictures,’’ he said. \n",
      "\n",
      "I kept my maiden name and hyphenated it, but was proud that my husband, children and I ALL created the “Smith” family. — \n",
      "\n",
      "I started out kind of rough,” Kirichkow said. “ \n",
      "\n",
      "I was actually looking forward to coming back,” she said, adding she liked the idea of participating in the event that helped people. \n",
      "\n",
      "I started with the Argentine tango, which might be a bit too much for some folks, but I have learned to absolutely love it. \n",
      "\n",
      "I’ve sat alongside the road crying after I hit a cat, wondering why people let them outside. \n",
      "\n",
      "I spent the next 20 years often partnered with Evan and a number of other panelist pundits on radio and TV. \n",
      "\n"
     ]
    }
   ],
   "source": [
    "query(\"I drove 35 miles one way to go and teach.\")"
   ]
  },
  {
   "cell_type": "code",
   "execution_count": 177,
   "metadata": {},
   "outputs": [
    {
     "name": "stdout",
     "output_type": "stream",
     "text": [
      "It’s not appropriate to have a business enterprise in a residential area,” he said. “ \n",
      "\n",
      "It sends signals through nerve fibers that are part of the sympa- thetic nervous system. \n",
      "\n",
      "It’s hard to have a family fight in front of strangers. \n",
      "\n",
      "It’s a dark place with few exits and lots of people. \n",
      "\n",
      "It’s an awful, slow-motion tragedy touching tens of millions of Americans, especially when you add all the family members and dependents who also are af- fected. \n",
      "\n",
      "It all comes down to trust and faith in the human being’s ability to navigate one’s own life successfully. \n",
      "\n",
      "It's always because of a love of God she has in her heart. \n",
      "\n",
      "It’s on: GOP, Democrats fight over women voters WASHINGTON (AP) – Is the 2012 election shaping up to be all about women? \n",
      "\n",
      "It’s nation’s transportation sys- tem predicted in 2009 that the U.S. will face nightmarish congestion unless it spends more. \n",
      "\n",
      "It is the only system that taxes wealth. \n",
      "\n"
     ]
    }
   ],
   "source": [
    "query(\"It's millions of dollars in taxpayers' money\")"
   ]
  },
  {
   "cell_type": "code",
   "execution_count": null,
   "metadata": {},
   "outputs": [],
   "source": []
  }
 ],
 "metadata": {
  "kernelspec": {
   "display_name": "Python 3",
   "language": "python",
   "name": "python3"
  },
  "language_info": {
   "codemirror_mode": {
    "name": "ipython",
    "version": 3
   },
   "file_extension": ".py",
   "mimetype": "text/x-python",
   "name": "python",
   "nbconvert_exporter": "python",
   "pygments_lexer": "ipython3",
   "version": "3.6.2"
  }
 },
 "nbformat": 4,
 "nbformat_minor": 2
}
