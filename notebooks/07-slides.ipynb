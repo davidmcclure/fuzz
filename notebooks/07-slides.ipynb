{
 "cells": [
  {
   "cell_type": "code",
   "execution_count": 1,
   "metadata": {},
   "outputs": [],
   "source": [
    "import attr\n",
    "import os\n",
    "import spacy\n",
    "import re\n",
    "import torch\n",
    "import ujson\n",
    "\n",
    "import dateutil.parser\n",
    "import numpy as np\n",
    "import pandas as pd\n",
    "\n",
    "from annoy import AnnoyIndex\n",
    "from cached_property import cached_property\n",
    "from glob import glob\n",
    "from tqdm import tqdm_notebook\n",
    "from itertools import islice\n",
    "from boltons.iterutils import chunked_iter, windowed_iter\n",
    "from datetime import datetime as dt\n",
    "from collections import UserDict\n",
    "\n",
    "from sent_order.models import kt_regression as kt_reg"
   ]
  },
  {
   "cell_type": "code",
   "execution_count": 2,
   "metadata": {},
   "outputs": [
    {
     "name": "stderr",
     "output_type": "stream",
     "text": [
      "/Users/dclure/Projects/infuzzy/env/lib/python3.6/site-packages/torch/serialization.py:316: SourceChangeWarning: source code of class 'torch.nn.modules.rnn.LSTM' has changed. you can retrieve the original source code by accessing the object's source attribute or set `torch.nn.Module.dump_patches = True` and use the patch tool to revert the changes.\n",
      "  warnings.warn(msg, SourceChangeWarning)\n"
     ]
    }
   ],
   "source": [
    "sent_encoder = torch.load(\n",
    "    '../../plot-ordering/data/models/new/kt-reg/sent_encoder.68.bin',\n",
    "    map_location={'cuda:0': 'cpu'}\n",
    ")"
   ]
  },
  {
   "cell_type": "code",
   "execution_count": 3,
   "metadata": {},
   "outputs": [],
   "source": [
    "nlp = spacy.load('en')\n",
    "nlp.add_pipe(nlp.create_pipe('sentencizer'))"
   ]
  },
  {
   "cell_type": "code",
   "execution_count": 4,
   "metadata": {},
   "outputs": [],
   "source": [
    "def clean_text(text):\n",
    "    return re.sub('[\\s]{2,}|\\n', ' ', text.strip())"
   ]
  },
  {
   "cell_type": "code",
   "execution_count": 5,
   "metadata": {},
   "outputs": [],
   "source": [
    "@attr.s\n",
    "class Sentence:\n",
    "    \n",
    "    text = attr.ib()\n",
    "        \n",
    "    @cached_property\n",
    "    def doc(self):\n",
    "        return nlp(self.text, disable=['parser', 'tagger', 'ner'])\n",
    "    \n",
    "    def tokens(self):\n",
    "        return [t.text for t in self.doc]\n",
    "    \n",
    "    def sent_order_x(self):\n",
    "        return kt_reg.Sentence(self.tokens()).variable()\n",
    "    \n",
    "    def embedding(self):\n",
    "        x = self.sent_order_x()\n",
    "        return sent_encoder([x])[0].data.tolist()"
   ]
  },
  {
   "cell_type": "code",
   "execution_count": 6,
   "metadata": {},
   "outputs": [],
   "source": [
    "@attr.s\n",
    "class NewspaperSegment:\n",
    "    \n",
    "    path = attr.ib()\n",
    "    \n",
    "    def text(self):\n",
    "        with open(self.path) as fh:\n",
    "            return clean_text(fh.read())\n",
    "        \n",
    "    @cached_property\n",
    "    def doc(self):\n",
    "        return nlp(self.text(), disable=['tokenizer', 'parser', 'tagger', 'ner'])\n",
    "    \n",
    "    @cached_property\n",
    "    def paper_name(self):\n",
    "        return self.path.split(os.sep)[-3]\n",
    "    \n",
    "    @cached_property\n",
    "    def date(self):\n",
    "        return dt.strptime(self.path.split(os.sep)[-2], '%m-%d-%Y')\n",
    "    \n",
    "    def sentence_texts(self):\n",
    "        for sent in self.doc.sents:\n",
    "            yield sent.text"
   ]
  },
  {
   "cell_type": "code",
   "execution_count": 7,
   "metadata": {},
   "outputs": [],
   "source": [
    "@attr.s\n",
    "class NewspaperCorpus:\n",
    "    \n",
    "    root = attr.ib()\n",
    "    \n",
    "    def paths(self):\n",
    "        return glob(os.path.join(self.root, '**/*.txt'), recursive=True)\n",
    "    \n",
    "    def segments(self):\n",
    "        for path in tqdm_notebook(self.paths()):\n",
    "            yield NewspaperSegment(path)\n",
    "            \n",
    "    def df_rows(self):\n",
    "        for segment in self.segments():\n",
    "            for text in segment.sentence_texts():\n",
    "                yield dict(paper_name=segment.paper_name, date=segment.date, text=text)\n",
    "                \n",
    "    def df(self, skim=None):\n",
    "        return pd.DataFrame(list(islice(self.df_rows(), skim)))"
   ]
  },
  {
   "cell_type": "code",
   "execution_count": 8,
   "metadata": {},
   "outputs": [],
   "source": [
    "class YoutubeTranscript(UserDict):\n",
    "    \n",
    "    @classmethod\n",
    "    def from_path(cls, path):\n",
    "        with open(path) as fh:\n",
    "            return cls(ujson.load(fh))\n",
    "        \n",
    "    @cached_property\n",
    "    def doc(self):\n",
    "        return nlp(self['transcript'], disable=['parser', 'tagger', 'ner'])\n",
    "    \n",
    "    @cached_property\n",
    "    def published_at(self):\n",
    "        return dateutil.parser.parse(self['published_at'])\n",
    "    \n",
    "    def sentence_texts(self, size=10):\n",
    "        for chunk in windowed_iter(self.doc, size):\n",
    "            yield ' '.join([t.text for t in chunk])"
   ]
  },
  {
   "cell_type": "code",
   "execution_count": 9,
   "metadata": {},
   "outputs": [],
   "source": [
    "@attr.s\n",
    "class YoutubeCorpus:\n",
    "    \n",
    "    root = attr.ib()\n",
    "    \n",
    "    def paths(self):\n",
    "        return glob(os.path.join(self.root, '**/*.json'), recursive=True)\n",
    "    \n",
    "    def transcripts(self):\n",
    "        for path in self.paths():\n",
    "            yield YoutubeTranscript.from_path(path)\n",
    "            \n",
    "    def df_rows(self):\n",
    "        for transcript in self.transcripts():\n",
    "            for text in transcript.sentence_texts():\n",
    "                yield dict(\n",
    "                    channel_title=transcript['channel_title'], \n",
    "                    title=transcript['title'], \n",
    "                    published_at=transcript.published_at,\n",
    "                    text=text,\n",
    "                )\n",
    "                \n",
    "    def df(self):\n",
    "        return pd.DataFrame(list(self.df_rows()))"
   ]
  },
  {
   "cell_type": "code",
   "execution_count": 10,
   "metadata": {},
   "outputs": [],
   "source": [
    "@attr.s\n",
    "class KathyTranscript:\n",
    "    \n",
    "    path = attr.ib()\n",
    "    \n",
    "    def lines(self):\n",
    "        with open(self.path) as fh:\n",
    "            for line in fh.read().splitlines():\n",
    "                yield line\n",
    "                \n",
    "    def text(self):\n",
    "        return ' '.join(self.lines())\n",
    "        \n",
    "    @cached_property\n",
    "    def doc(self):\n",
    "        return nlp(self.text(), disable=['tokenizer', 'parser', 'tagger', 'ner'])\n",
    "    \n",
    "    @cached_property\n",
    "    def basename(self):\n",
    "        return os.path.basename(self.path)\n",
    "    \n",
    "    def sentence_texts(self):\n",
    "        for sent in self.doc.sents:\n",
    "            yield sent.text"
   ]
  },
  {
   "cell_type": "code",
   "execution_count": 11,
   "metadata": {},
   "outputs": [],
   "source": [
    "@attr.s\n",
    "class KathyCorpus:\n",
    "    \n",
    "    root = attr.ib()\n",
    "    \n",
    "    def paths(self):\n",
    "        return glob(os.path.join(self.root, '**/*.txt'), recursive=True)\n",
    "    \n",
    "    def transcripts(self):\n",
    "        for path in self.paths():\n",
    "            yield KathyTranscript(path)\n",
    "            \n",
    "    def df_rows(self):\n",
    "        for transcript in self.transcripts():\n",
    "            for text in transcript.sentence_texts():\n",
    "                yield dict(\n",
    "                    basename=transcript.basename,\n",
    "                    text=text,\n",
    "                )\n",
    "                \n",
    "    def df(self):\n",
    "        return pd.DataFrame(list(self.df_rows()))"
   ]
  },
  {
   "cell_type": "code",
   "execution_count": 12,
   "metadata": {},
   "outputs": [],
   "source": [
    "def build_index(text_series):\n",
    "    \n",
    "    sent_idx = AnnoyIndex(1000)\n",
    "\n",
    "    id_text = list(text_series.iteritems())\n",
    "\n",
    "    for chunk in chunked_iter(tqdm_notebook(id_text), 1000):\n",
    "\n",
    "        ids, texts = zip(*chunk)\n",
    "\n",
    "        x = [Sentence(t).sent_order_x() for t in texts]\n",
    "        x = sent_encoder(x)\n",
    "\n",
    "        for i, v in zip(ids, x):\n",
    "            sent_idx.add_item(i, v.data.tolist())\n",
    "\n",
    "    sent_idx.build(10)\n",
    "    \n",
    "    return sent_idx"
   ]
  },
  {
   "cell_type": "code",
   "execution_count": 15,
   "metadata": {},
   "outputs": [],
   "source": [
    "news_corpus = NewspaperCorpus('../data/kathy2012/newspapers2012/')"
   ]
  },
  {
   "cell_type": "code",
   "execution_count": 16,
   "metadata": {},
   "outputs": [
    {
     "data": {
      "application/vnd.jupyter.widget-view+json": {
       "model_id": "5106cfe7e65043babeb0da9aa1879f31",
       "version_major": 2,
       "version_minor": 0
      },
      "text/html": [
       "<p>Failed to display Jupyter Widget of type <code>HBox</code>.</p>\n",
       "<p>\n",
       "  If you're reading this message in the Jupyter Notebook or JupyterLab Notebook, it may mean\n",
       "  that the widgets JavaScript is still loading. If this message persists, it\n",
       "  likely means that the widgets JavaScript library is either not installed or\n",
       "  not enabled. See the <a href=\"https://ipywidgets.readthedocs.io/en/stable/user_install.html\">Jupyter\n",
       "  Widgets Documentation</a> for setup instructions.\n",
       "</p>\n",
       "<p>\n",
       "  If you're reading this message in another frontend (for example, a static\n",
       "  rendering on GitHub or <a href=\"https://nbviewer.jupyter.org/\">NBViewer</a>),\n",
       "  it may mean that your frontend doesn't currently support widgets.\n",
       "</p>\n"
      ],
      "text/plain": [
       "HBox(children=(IntProgress(value=0, max=7437), HTML(value='')))"
      ]
     },
     "metadata": {},
     "output_type": "display_data"
    },
    {
     "name": "stdout",
     "output_type": "stream",
     "text": [
      "\n"
     ]
    }
   ],
   "source": [
    "news_df = news_corpus.df()"
   ]
  },
  {
   "cell_type": "code",
   "execution_count": 17,
   "metadata": {},
   "outputs": [
    {
     "data": {
      "application/vnd.jupyter.widget-view+json": {
       "model_id": "a118834227c34873a48634f08a97f060",
       "version_major": 2,
       "version_minor": 0
      },
      "text/html": [
       "<p>Failed to display Jupyter Widget of type <code>HBox</code>.</p>\n",
       "<p>\n",
       "  If you're reading this message in the Jupyter Notebook or JupyterLab Notebook, it may mean\n",
       "  that the widgets JavaScript is still loading. If this message persists, it\n",
       "  likely means that the widgets JavaScript library is either not installed or\n",
       "  not enabled. See the <a href=\"https://ipywidgets.readthedocs.io/en/stable/user_install.html\">Jupyter\n",
       "  Widgets Documentation</a> for setup instructions.\n",
       "</p>\n",
       "<p>\n",
       "  If you're reading this message in another frontend (for example, a static\n",
       "  rendering on GitHub or <a href=\"https://nbviewer.jupyter.org/\">NBViewer</a>),\n",
       "  it may mean that your frontend doesn't currently support widgets.\n",
       "</p>\n"
      ],
      "text/plain": [
       "HBox(children=(IntProgress(value=0, max=785611), HTML(value='')))"
      ]
     },
     "metadata": {},
     "output_type": "display_data"
    },
    {
     "name": "stdout",
     "output_type": "stream",
     "text": [
      "\n"
     ]
    }
   ],
   "source": [
    "news_idx = build_index(news_df['text'])"
   ]
  },
  {
   "cell_type": "code",
   "execution_count": 18,
   "metadata": {},
   "outputs": [],
   "source": [
    "yt_corpus = YoutubeCorpus('../data/kathy2012/youtube2012/')"
   ]
  },
  {
   "cell_type": "code",
   "execution_count": 19,
   "metadata": {},
   "outputs": [],
   "source": [
    "yt_df = yt_corpus.df()"
   ]
  },
  {
   "cell_type": "code",
   "execution_count": 20,
   "metadata": {},
   "outputs": [
    {
     "data": {
      "application/vnd.jupyter.widget-view+json": {
       "model_id": "c61c08e602ae4b7ca0287692acc7b63e",
       "version_major": 2,
       "version_minor": 0
      },
      "text/html": [
       "<p>Failed to display Jupyter Widget of type <code>HBox</code>.</p>\n",
       "<p>\n",
       "  If you're reading this message in the Jupyter Notebook or JupyterLab Notebook, it may mean\n",
       "  that the widgets JavaScript is still loading. If this message persists, it\n",
       "  likely means that the widgets JavaScript library is either not installed or\n",
       "  not enabled. See the <a href=\"https://ipywidgets.readthedocs.io/en/stable/user_install.html\">Jupyter\n",
       "  Widgets Documentation</a> for setup instructions.\n",
       "</p>\n",
       "<p>\n",
       "  If you're reading this message in another frontend (for example, a static\n",
       "  rendering on GitHub or <a href=\"https://nbviewer.jupyter.org/\">NBViewer</a>),\n",
       "  it may mean that your frontend doesn't currently support widgets.\n",
       "</p>\n"
      ],
      "text/plain": [
       "HBox(children=(IntProgress(value=0, max=33027), HTML(value='')))"
      ]
     },
     "metadata": {},
     "output_type": "display_data"
    },
    {
     "name": "stdout",
     "output_type": "stream",
     "text": [
      "\n"
     ]
    }
   ],
   "source": [
    "yt_idx = build_index(yt_df['text'])"
   ]
  },
  {
   "cell_type": "code",
   "execution_count": 13,
   "metadata": {},
   "outputs": [],
   "source": [
    "kathy_corpus = KathyCorpus('../data/kathy2012/transcripts2012/')"
   ]
  },
  {
   "cell_type": "code",
   "execution_count": 14,
   "metadata": {},
   "outputs": [],
   "source": [
    "kathy_df = kathy_corpus.df()"
   ]
  },
  {
   "cell_type": "code",
   "execution_count": 15,
   "metadata": {},
   "outputs": [
    {
     "data": {
      "application/vnd.jupyter.widget-view+json": {
       "model_id": "7f500d8d4cbd4ed2affbbd0e9434af72",
       "version_major": 2,
       "version_minor": 0
      },
      "text/html": [
       "<p>Failed to display Jupyter Widget of type <code>HBox</code>.</p>\n",
       "<p>\n",
       "  If you're reading this message in the Jupyter Notebook or JupyterLab Notebook, it may mean\n",
       "  that the widgets JavaScript is still loading. If this message persists, it\n",
       "  likely means that the widgets JavaScript library is either not installed or\n",
       "  not enabled. See the <a href=\"https://ipywidgets.readthedocs.io/en/stable/user_install.html\">Jupyter\n",
       "  Widgets Documentation</a> for setup instructions.\n",
       "</p>\n",
       "<p>\n",
       "  If you're reading this message in another frontend (for example, a static\n",
       "  rendering on GitHub or <a href=\"https://nbviewer.jupyter.org/\">NBViewer</a>),\n",
       "  it may mean that your frontend doesn't currently support widgets.\n",
       "</p>\n"
      ],
      "text/plain": [
       "HBox(children=(IntProgress(value=0, max=3814), HTML(value='')))"
      ]
     },
     "metadata": {},
     "output_type": "display_data"
    },
    {
     "name": "stdout",
     "output_type": "stream",
     "text": [
      "\n"
     ]
    }
   ],
   "source": [
    "kathy_idx = build_index(kathy_df['text'])"
   ]
  },
  {
   "cell_type": "code",
   "execution_count": 16,
   "metadata": {},
   "outputs": [],
   "source": [
    "def query(df, idx, text, n=10):\n",
    "    for ri in idx.get_nns_by_vector(Sentence(text).embedding(), n):\n",
    "        print(df.iloc[ri].text, '\\n')"
   ]
  },
  {
   "cell_type": "code",
   "execution_count": 25,
   "metadata": {},
   "outputs": [
    {
     "name": "stdout",
     "output_type": "stream",
     "text": [
      "This is excellent. \n",
      "\n",
      "This makes us feel wonderful. \n",
      "\n",
      "This is good, good education policy reform.” \n",
      "\n",
      "This is great for children, grandchildren, best friends and families. \n",
      "\n",
      "This is a great day for the citizens of Wiscon- sin,’’ she said. ‘‘ \n",
      "\n",
      "This is amazing,” he said. “ \n",
      "\n",
      "This is a great day for the citi- zens of Wisconsin,” she said. “ \n",
      "\n",
      "This is a great day for the citizens of Wiscon- sin,” she said. “ \n",
      "\n",
      "This is great for board members, who come from a wide variety of disciplines, such as business, educa- tion, technology, and gov- ernment. “ \n",
      "\n",
      "This is great news for the state,” said Walker campaign spokeswoman Ciara Matthews. “( \n",
      "\n"
     ]
    }
   ],
   "source": [
    "query(news_df, news_idx, \"This is wonderful.\")"
   ]
  },
  {
   "cell_type": "code",
   "execution_count": 26,
   "metadata": {},
   "outputs": [
    {
     "name": "stdout",
     "output_type": "stream",
     "text": [
      "this is a huge victory for Wisconsin 's middle class \n",
      "\n",
      "this has been an incredible journey one that has shown \n",
      "\n",
      "this is at a time when we 're supposed to \n",
      "\n",
      "this important piece of the challenge that lies ahead of \n",
      "\n",
      "this is an exciting day this is a day of \n",
      "\n",
      "this is one of our exciting days most exciting days \n",
      "\n",
      "this is one of our exciting days most exciting days \n",
      "\n",
      "this has been an incredible journey 14 months long this \n",
      "\n",
      "but this shows Kosovo as a whole a lot of \n",
      "\n",
      "this fundamental fairness issue we know from Tommy Thompson 's \n",
      "\n"
     ]
    }
   ],
   "source": [
    "query(yt_df, yt_idx, \"This is wonderful.\")"
   ]
  },
  {
   "cell_type": "code",
   "execution_count": 27,
   "metadata": {},
   "outputs": [
    {
     "name": "stdout",
     "output_type": "stream",
     "text": [
      "It's wonderful. \n",
      "\n",
      "That's wonderful. \n",
      "\n",
      "It's really great. \n",
      "\n",
      "This is Wisconsin. \n",
      "\n",
      "So great. \n",
      "\n",
      "This is very helpful. \n",
      "\n",
      "It's phenomenal. \n",
      "\n",
      "It's a good one. \n",
      "\n",
      "This has been such a great conversation. \n",
      "\n",
      "This has been... this welfare stuff has been getting out of control for years. \n",
      "\n"
     ]
    }
   ],
   "source": [
    "query(kathy_df, kathy_idx, \"This is wonderful.\")"
   ]
  },
  {
   "cell_type": "code",
   "execution_count": 29,
   "metadata": {},
   "outputs": [
    {
     "name": "stdout",
     "output_type": "stream",
     "text": [
      "I mean our kids are really well educated, but we need to take politics out of the education system. \n",
      "\n",
      "Our tax system is too complicated, that's a national problem, of course. \n",
      "\n",
      "Our kids. \n",
      "\n",
      "Our children! \n",
      "\n",
      "I don't think cutting the budget of education means we're cutting the quality of education. \n",
      "\n",
      "I know you guys must have talked about the gridlock in Congress. \n",
      "\n",
      "I just cannot stomach listening to teachers complain, because they have to pay 10% of their health insurance premium. \n",
      "\n",
      "I think the insurance companies have way too much power. \n",
      "\n",
      "I think were really, were in a climate of like my side and your side and were throwing balls at each other instead of like trying to make a plan. \n",
      "\n",
      "I can see a situation with the school board; I think they might be going too far the other way. \n",
      "\n"
     ]
    }
   ],
   "source": [
    "query(kathy_df, kathy_idx, \"our kids are really well educated, but we need to take politics out of the education system.\")"
   ]
  },
  {
   "cell_type": "code",
   "execution_count": 31,
   "metadata": {},
   "outputs": [
    {
     "name": "stdout",
     "output_type": "stream",
     "text": [
      "Our schools are all of the age where they need to have major maintenance, enough of patching the patches. \n",
      "\n",
      "Our kids here are reeling right now,” he said. “ \n",
      "\n",
      "Our shelter system turned away more than 2,000 people last year due to lack of space. \n",
      "\n",
      "Our leaders need to bring our nation back to what it once was, and do so with liberty and justice for all. \n",
      "\n",
      "Our city needs to be a place where big projects can succeed, despite elaborate bu- reaucracy. \n",
      "\n",
      "Our citizens live in a very nice village and they need to pay for that village.” \n",
      "\n",
      "Our intellectual depth increasingly resembles floor wax; shiny on top, but lacking depth. \n",
      "\n",
      "Our hope is to have as high a number of kids as possible take advan- tage of this really, really excellent program,” said Gilbertson. “ \n",
      "\n",
      "Our city politicians should be jumping at the chance and opportuni- ty to save millions of dollars that we tax- payers would not have to pay. \n",
      "\n",
      "Our entire community is affected by the failure to do so. \n",
      "\n"
     ]
    }
   ],
   "source": [
    "query(news_df, news_idx, \"Our kids are really well educated, but we need to take politics out of the education system.\")"
   ]
  },
  {
   "cell_type": "code",
   "execution_count": 32,
   "metadata": {},
   "outputs": [
    {
     "name": "stdout",
     "output_type": "stream",
     "text": [
      "I hope that one of them is willing to do it for the sake of our state. \n",
      "\n",
      "I think that with the bud- get restraints and cutting taxes, people think we are leaving the children with a better financial future,” he said. “ \n",
      "\n",
      "I think they’ve to some degree employed a “gin up the base” strategy, which might ultimately keep Walker in the governor’s mansion but isn’t what a lot of voters signed up for. \n",
      "\n",
      "I wish I could do that in my business but I can’t because I don’t have the govern- ment giving me free money! \n",
      "\n",
      "I think in the case of everyone but the gover- nor, the leaks need to just stop. \n",
      "\n",
      "I think the environmental concerns are important, but the jobs are important, too,” he said. “ \n",
      "\n",
      "I think candidates should be able to campaign on their values instead of how much money they raise,” Warren said. \n",
      "\n",
      "I suspect that both major parties can see the stupidity and risk of the Electoral College, but both gamble they will game the sys- tem. \n",
      "\n",
      "I guess those folks need to be reminded that the loss of private-sector jobs is occurring in every state in the union. \n",
      "\n",
      "I hope that means the turnout will be high.” \n",
      "\n"
     ]
    }
   ],
   "source": [
    "query(news_df, news_idx, \"I wish both sides would work together and accomplish something instead of being on the campaign trail all the time.\")"
   ]
  },
  {
   "cell_type": "code",
   "execution_count": 33,
   "metadata": {},
   "outputs": [
    {
     "name": "stdout",
     "output_type": "stream",
     "text": [
      "The bottom line is that a lot more people will be able to acquire and afford health insurance. \n",
      "\n",
      "The bottom line is that a lot more people will be able to acquire and afford health insurance. \n",
      "\n",
      "The government did not build universities or houses. \n",
      "\n",
      "The referendum was not whether or not to buy the (school). \n",
      "\n",
      "The presidency was a position he did not seek or desire. \n",
      "\n",
      "The schools were cre- ated as a way to further education because children were only required to be in school through the age of 14, Cameron said. \n",
      "\n",
      "The banks have insurance for rob- beries so they are not the victims. \n",
      "\n",
      "The water was too high for him to walk out. \n",
      "\n",
      "The meeting was good for the community,” Andrews said. “ \n",
      "\n",
      "The state was armed with witness accounts that the moon rocks sur- vived the fire and were not lumped with debris. “ \n",
      "\n"
     ]
    }
   ],
   "source": [
    "query(news_df, news_idx, \"The government was not meant to run health insurance.\")"
   ]
  },
  {
   "cell_type": "code",
   "execution_count": 40,
   "metadata": {},
   "outputs": [
    {
     "name": "stdout",
     "output_type": "stream",
     "text": [
      "My concern is the severity of the citation. \n",
      "\n",
      "I want to assure you that this was not simply a campaign gim- mick, it is the honest truth and it is very much who I am. \n",
      "\n",
      "I think there is a legitimate concern or fear out there on the part of people that by giving these waivers, states might be ‘let off the hook’ in terms of ac- countability, and I think what you’ll find is just the opposite,” Wilhoit said. \n",
      "\n",
      "I do want the project to happen but can’t get to the TIF yes given my district.” \n",
      "\n",
      "My goal is to explain the forces that shaped him is to explain the forces that shaped him and why he thinks and acts as he does. \n",
      "\n",
      "My concern has been borne out,” Baldwin said, charging the deals have “led to a very signiﬁ - cant decrease in (Wisconsin’s) manufacturing sector, and if you Please see BALDWIN, Page A11 STEVE APPS — State Journal U.S. Rep. Tammy Baldwin, D- Madison, defends her congressional voting record Thursday during a meeting with the State Journal editorial board. \n",
      "\n",
      "My goal is to cut expenses, not look for other sources of revenue,” he said. \n",
      "\n",
      "I just want to do a broad sweep at this point to see if anything comes up that we should be worried about,” she said. \n",
      "\n",
      "My problem is, after insisting I take these items, she’ll often ask for them back several years later. \n",
      "\n",
      "I think the reason you don’t see any such criti- cism is because the “looney right” is such an impor- tant part of the Republican base that they are afraid to anger Rush Limbaugh, Sean Hannity, and such. \n",
      "\n",
      "I think the important thing is, clearly, we dropped the ball — the staff here did — but while the system collecting loans didn’t work, the system for catching this did.” \n",
      "\n",
      "I think the idea of them is offensive when one spouse is pregnant and under pressure to agree because the other spouse can’t think of anyone but himself. \n",
      "\n",
      "My question is, will her affiliation with unions hurt her?” \n",
      "\n",
      "I don’t want to shorten it.” \n",
      "\n",
      "I just want to be sure that the cause of death is not laid at the feet of the DNR,” she said. \n",
      "\n",
      "I want them to know that this land belongs to all, that the beauty of the land is meant for all. \n",
      "\n",
      "My main goal is to get students active so that they can be more pro- ductive in the classroom and at home. \n",
      "\n",
      "My goal is to get more exposure for the event, not larger masses of people, because I would hate to see it get too congested that it out- grows itself,” said WDBA President Roger Igielski, who hopes the event will draw in people from all over the region who have never been exposed to downtown Waukesha. “ \n",
      "\n",
      "I think the “mandate is merely a tax” argument is a dodge, and a flimsy one at that. \n",
      "\n",
      "I think the name issue is as much about the insecurity of the man as the independence of the woman. — \n",
      "\n"
     ]
    }
   ],
   "source": [
    "query(news_df, news_idx, \"my major concern is the fact that we're just going to pass this debt on to the kids, and I think that's embarrassing.\", 20)"
   ]
  },
  {
   "cell_type": "code",
   "execution_count": 42,
   "metadata": {},
   "outputs": [
    {
     "name": "stdout",
     "output_type": "stream",
     "text": [
      "We’ve loved you since you created the modern era of politics-as-blood-sport in the House two decades ago. \n",
      "\n",
      "So I say ﬁ ve years ago. \n",
      "\n",
      "The lot used to house Burger King, which closed several years ago. \n",
      "\n",
      "My longest stint on radio and TV was with Mark Belling. \n",
      "\n",
      "It started as a whim a quarter century ago. \n",
      "\n",
      "My current favorite is “The Boy Who Came Back from Heaven.” \n",
      "\n",
      "The state Department of Justice sued Michael Todd Messmer of Oak Creek and Marilyn L. Broerman of Charlotte, N.C., two years ago. \n",
      "\n",
      "The museum opened 18 months ago. \n",
      "\n",
      "began in earnest decades ago. \n",
      "\n",
      "I wrote about it a few weeks ago. \n",
      "\n"
     ]
    }
   ],
   "source": [
    "query(news_df, news_idx, \"My God, I've been here almost forty years.\")"
   ]
  },
  {
   "cell_type": "code",
   "execution_count": 44,
   "metadata": {},
   "outputs": [
    {
     "name": "stdout",
     "output_type": "stream",
     "text": [
      "And the media is such a, the way they do these ads and they pull this little something that this guy said and paste it in here. \n",
      "\n",
      "The political system that we have right now is this or that. \n",
      "\n",
      "That's why it's such a bitter battle, and there's so much money involved because you know how much money this loss of, you know, collective bargaining is for the unions, you know. \n",
      "\n",
      "A lot of them this weekend on the road. \n",
      "\n",
      "So small places are ignored and farmers in particular, do you feel? \n",
      "\n",
      "This has been... this welfare stuff has been getting out of control for years. \n",
      "\n",
      "There is no way to do it. \n",
      "\n",
      "And part of the problem is that so many people dont recognize that this is such a complex situation. \n",
      "\n",
      "Now with recalls is this the way the whole world is going to be now. \n",
      "\n",
      "So Ive just taken so much of this personally. \n",
      "\n"
     ]
    }
   ],
   "source": [
    "query(kathy_df, kathy_idx, \"The money going into this campaign is so frustrating to see.\")"
   ]
  },
  {
   "cell_type": "code",
   "execution_count": 46,
   "metadata": {},
   "outputs": [
    {
     "name": "stdout",
     "output_type": "stream",
     "text": [
      "They mind their own business. \n",
      "\n",
      "They want “their” country back. \n",
      "\n",
      "They’re going to make up their own numbers.” \n",
      "\n",
      "They’re going to make up their own numbers.” \n",
      "\n",
      "They’re going to make up their own numbers.’’ \n",
      "\n",
      "They’re going to make up their own numbers.” \n",
      "\n",
      "They say they want flexibility from the federal government on mandated programs to allow them to do more with less. \n",
      "\n",
      "They are not intended to be objective in their assessments, but rather they want you to think they are, and that’s the big lie. \n",
      "\n",
      "They must evaluate, their students and themselves. \n",
      "\n",
      "They make their own videos. \n",
      "\n"
     ]
    }
   ],
   "source": [
    "query(news_df, news_idx, \"They should mind their own business.\")"
   ]
  },
  {
   "cell_type": "code",
   "execution_count": 53,
   "metadata": {},
   "outputs": [
    {
     "name": "stdout",
     "output_type": "stream",
     "text": [
      "My concern is, if in fact this person had a permit to carry this weapon under the new concealed-carry law, are there no rules or established protocol addressing the man- ner in which a concealed weapon is carried? \n",
      "\n",
      "My main objective right now is to show that we can provide as good a location that is more con- venient, more central to their 470 employees,” Soglin said Monday. \n",
      "\n",
      "My main objective right now is to show that we can provide as good a location that is more con- venient, more central to their 470 employees,” Soglin said Monday. \n",
      "\n",
      "My concern is why, if the principal knew this in advance, why didn’t he inform us?” \n",
      "\n",
      "Our main concern is for the well-being of all drivers, students and passengers involved in the accident that occurred in Waukesha this morning,” Viviani said in the email. “ \n",
      "\n",
      "We don’t know where (the culprits) are getting this information.” \n",
      "\n",
      "Our thoughts are with the families of those who were lost, and we wish the wounded a speedy recov- ery,” it said. “ \n",
      "\n",
      "Our thoughts are with the families of those who were lost, and we wish the wounded a speedy recovery,” it said.” \n",
      "\n",
      "We think what it really comes down to is, whatever this change is, it should remain present in your life experience and supply positive daily experiences,” says study co-author Kennon Sheldon, a professor of psychological sciences at the University of Missouri. \n",
      "\n",
      "We think what it really comes down to is, whatever this change is, it should remain present in your life experience and supply positive daily experiences,” says study co-author Kennon Sheldon, a professor of psychological sciences at the University of Missouri. \n",
      "\n"
     ]
    }
   ],
   "source": [
    "query(news_df, news_idx, \"My major concern is the fact that we're just going to pass this debt on to the kids.\")"
   ]
  },
  {
   "cell_type": "code",
   "execution_count": 40,
   "metadata": {},
   "outputs": [
    {
     "name": "stdout",
     "output_type": "stream",
     "text": [
      "Every morning, noon, night, is some negativity about a person on TV. \n",
      "\n",
      "Do you feel like if you contacted city council, like your alderperson, that person would be responsive and listen to what you had to say? \n",
      "\n",
      "Your private life should be private, you know, even if you're in public office. \n",
      "\n",
      "So you can buy a house, buy a car, have kids, try and raise a family and start with $40,000 in the hole. \n",
      "\n",
      "Unless you're a multimillionaire, you cannot afford to run a campaign. \n",
      "\n",
      "You cannot be constantly bickering and fighting and getting nothing done. \n",
      "\n",
      "Do you know what a ticket to Seattle is right now? \n",
      "\n",
      "Do people know that every time we have an election we spend X amount of taxpayer dollars? \n",
      "\n",
      "And you know whats really cool in terms of politics is how many people know Citizens United? \n",
      "\n",
      "Do you think they'll have a good season next year? \n",
      "\n"
     ]
    }
   ],
   "source": [
    "query(kathy_df, kathy_idx, \"Every morning, noon, night, is some negativity about a person on TV.\")"
   ]
  },
  {
   "cell_type": "code",
   "execution_count": 43,
   "metadata": {},
   "outputs": [
    {
     "name": "stdout",
     "output_type": "stream",
     "text": [
      "You cannot be constantly bickering and fighting and getting nothing done. \n",
      "\n",
      "Or does it not necessarily matter  so much? \n",
      "\n",
      "You don’t necessarily have to know who that alderperson is. [ \n",
      "\n",
      "You know they're not, in… they really have to start looking at that as young people because the days of the retirement plans and stuff they kind of got them, they're just kind of weeding those out. \n",
      "\n",
      "You've got a pile of money here, you've got a pile of bills here you've got to pay. \n",
      "\n",
      "You are not getting a ride there. \n",
      "\n",
      "Why the hell is it someone else's fault because someone didn't have kids until late in life? \n",
      "\n",
      "You know what all that is about. \n",
      "\n",
      "You'll never get in. \n",
      "\n",
      "You know, how can you say this is this fault or that fault? \n",
      "\n"
     ]
    }
   ],
   "source": [
    "query(kathy_df, kathy_idx, \"You cannot be constantly bickering and fighting and getting nothing done.\")"
   ]
  },
  {
   "cell_type": "code",
   "execution_count": null,
   "metadata": {},
   "outputs": [],
   "source": []
  }
 ],
 "metadata": {
  "kernelspec": {
   "display_name": "Python 3",
   "language": "python",
   "name": "python3"
  },
  "language_info": {
   "codemirror_mode": {
    "name": "ipython",
    "version": 3
   },
   "file_extension": ".py",
   "mimetype": "text/x-python",
   "name": "python",
   "nbconvert_exporter": "python",
   "pygments_lexer": "ipython3",
   "version": "3.6.4"
  }
 },
 "nbformat": 4,
 "nbformat_minor": 2
}
