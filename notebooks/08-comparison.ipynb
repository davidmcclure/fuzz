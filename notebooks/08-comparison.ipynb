{
 "cells": [
  {
   "cell_type": "code",
   "execution_count": 149,
   "metadata": {},
   "outputs": [],
   "source": [
    "import attr\n",
    "import os\n",
    "import spacy\n",
    "import re\n",
    "import torch\n",
    "import sent2vec\n",
    "import ujson\n",
    "\n",
    "import dateutil.parser\n",
    "import numpy as np\n",
    "import pandas as pd\n",
    "\n",
    "from annoy import AnnoyIndex\n",
    "from cached_property import cached_property\n",
    "from glob import glob\n",
    "from tqdm import tqdm_notebook\n",
    "from itertools import islice\n",
    "from boltons.iterutils import chunked_iter, windowed_iter\n",
    "from datetime import datetime as dt\n",
    "from collections import UserDict\n",
    "from gensim.models.doc2vec import Doc2Vec, TaggedDocument\n",
    "from torchtext.vocab import Vectors\n",
    "\n",
    "from sent_order.models import kt_regression as kt_reg"
   ]
  },
  {
   "cell_type": "code",
   "execution_count": 140,
   "metadata": {},
   "outputs": [],
   "source": [
    "vectors = Vectors('glove.840B.300d.txt')"
   ]
  },
  {
   "cell_type": "code",
   "execution_count": null,
   "metadata": {},
   "outputs": [],
   "source": [
    "sent_encoder = torch.load(\n",
    "    '../../plot-ordering/data/models/new/kt-reg/sent_encoder.68.bin',\n",
    "    map_location={'cuda:0': 'cpu'}\n",
    ")"
   ]
  },
  {
   "cell_type": "code",
   "execution_count": 150,
   "metadata": {},
   "outputs": [],
   "source": [
    "sent2vec_model = sent2vec.Sent2vecModel()\n",
    "sent2vec_model.load_model('../data/wiki_unigrams.bin')"
   ]
  },
  {
   "cell_type": "code",
   "execution_count": 3,
   "metadata": {},
   "outputs": [],
   "source": [
    "nlp = spacy.load('en')\n",
    "nlp.add_pipe(nlp.create_pipe('sentencizer'))"
   ]
  },
  {
   "cell_type": "code",
   "execution_count": 4,
   "metadata": {},
   "outputs": [],
   "source": [
    "def clean_text(text):\n",
    "    return re.sub('[\\s]{2,}|\\n', ' ', text.strip())"
   ]
  },
  {
   "cell_type": "code",
   "execution_count": 151,
   "metadata": {},
   "outputs": [],
   "source": [
    "@attr.s\n",
    "class Sentence:\n",
    "    \n",
    "    text = attr.ib()\n",
    "        \n",
    "    @cached_property\n",
    "    def doc(self):\n",
    "        return nlp(self.text, disable=['parser', 'tagger', 'ner'])\n",
    "    \n",
    "    def tokens(self):\n",
    "        return [t.text for t in self.doc]\n",
    "    \n",
    "    def sent_order_x(self):\n",
    "        return kt_reg.Sentence(self.tokens()).variable()\n",
    "    \n",
    "    def sent_order_vector(self):\n",
    "        x = self.sent_order_x()\n",
    "        return sent_encoder([x])[0].data.tolist()\n",
    "    \n",
    "    def cbow_vector(self):\n",
    "        embeds = [vectors[t].squeeze().tolist() for t in self.tokens()]\n",
    "        return np.mean(embeds, 0)\n",
    "    \n",
    "    def sent2vec_vector(self):\n",
    "        return sent2vec_model.embed_sentence(self.text)"
   ]
  },
  {
   "cell_type": "code",
   "execution_count": 6,
   "metadata": {},
   "outputs": [],
   "source": [
    "@attr.s\n",
    "class NewspaperSegment:\n",
    "    \n",
    "    path = attr.ib()\n",
    "    \n",
    "    def text(self):\n",
    "        with open(self.path) as fh:\n",
    "            return clean_text(fh.read())\n",
    "        \n",
    "    @cached_property\n",
    "    def doc(self):\n",
    "        return nlp(self.text(), disable=['tokenizer', 'parser', 'tagger', 'ner'])\n",
    "    \n",
    "    @cached_property\n",
    "    def paper_name(self):\n",
    "        return self.path.split(os.sep)[-3]\n",
    "    \n",
    "    @cached_property\n",
    "    def date(self):\n",
    "        return dt.strptime(self.path.split(os.sep)[-2], '%m-%d-%Y')\n",
    "    \n",
    "    def sentence_texts(self):\n",
    "        for sent in self.doc.sents:\n",
    "            yield sent.text"
   ]
  },
  {
   "cell_type": "code",
   "execution_count": 7,
   "metadata": {},
   "outputs": [],
   "source": [
    "@attr.s\n",
    "class NewspaperCorpus:\n",
    "    \n",
    "    root = attr.ib()\n",
    "    \n",
    "    def paths(self):\n",
    "        return glob(os.path.join(self.root, '**/*.txt'), recursive=True)\n",
    "    \n",
    "    def segments(self):\n",
    "        for path in tqdm_notebook(self.paths()):\n",
    "            yield NewspaperSegment(path)\n",
    "            \n",
    "    def df_rows(self):\n",
    "        for segment in self.segments():\n",
    "            for text in segment.sentence_texts():\n",
    "                yield dict(paper_name=segment.paper_name, date=segment.date, text=text)\n",
    "                \n",
    "    def df(self, skim=None):\n",
    "        return pd.DataFrame(list(islice(self.df_rows(), skim)))"
   ]
  },
  {
   "cell_type": "code",
   "execution_count": 9,
   "metadata": {},
   "outputs": [],
   "source": [
    "news_corpus = NewspaperCorpus('../data/kathy2012/newspapers2012/')"
   ]
  },
  {
   "cell_type": "code",
   "execution_count": 10,
   "metadata": {},
   "outputs": [
    {
     "data": {
      "application/vnd.jupyter.widget-view+json": {
       "model_id": "7c58820534594fd889b906908b4d8c6c",
       "version_major": 2,
       "version_minor": 0
      },
      "text/html": [
       "<p>Failed to display Jupyter Widget of type <code>HBox</code>.</p>\n",
       "<p>\n",
       "  If you're reading this message in the Jupyter Notebook or JupyterLab Notebook, it may mean\n",
       "  that the widgets JavaScript is still loading. If this message persists, it\n",
       "  likely means that the widgets JavaScript library is either not installed or\n",
       "  not enabled. See the <a href=\"https://ipywidgets.readthedocs.io/en/stable/user_install.html\">Jupyter\n",
       "  Widgets Documentation</a> for setup instructions.\n",
       "</p>\n",
       "<p>\n",
       "  If you're reading this message in another frontend (for example, a static\n",
       "  rendering on GitHub or <a href=\"https://nbviewer.jupyter.org/\">NBViewer</a>),\n",
       "  it may mean that your frontend doesn't currently support widgets.\n",
       "</p>\n"
      ],
      "text/plain": [
       "HBox(children=(IntProgress(value=0, max=7437), HTML(value='')))"
      ]
     },
     "metadata": {},
     "output_type": "display_data"
    },
    {
     "name": "stdout",
     "output_type": "stream",
     "text": [
      "\n"
     ]
    }
   ],
   "source": [
    "news_df = news_corpus.df()"
   ]
  },
  {
   "cell_type": "code",
   "execution_count": 131,
   "metadata": {},
   "outputs": [],
   "source": [
    "skim_df = news_df.head(100000)"
   ]
  },
  {
   "cell_type": "markdown",
   "metadata": {},
   "source": [
    "# doc2vec"
   ]
  },
  {
   "cell_type": "code",
   "execution_count": 164,
   "metadata": {},
   "outputs": [
    {
     "data": {
      "application/vnd.jupyter.widget-view+json": {
       "model_id": "f78a9961e3fc4a5a89e7b2a1174182d4",
       "version_major": 2,
       "version_minor": 0
      },
      "text/html": [
       "<p>Failed to display Jupyter Widget of type <code>HBox</code>.</p>\n",
       "<p>\n",
       "  If you're reading this message in the Jupyter Notebook or JupyterLab Notebook, it may mean\n",
       "  that the widgets JavaScript is still loading. If this message persists, it\n",
       "  likely means that the widgets JavaScript library is either not installed or\n",
       "  not enabled. See the <a href=\"https://ipywidgets.readthedocs.io/en/stable/user_install.html\">Jupyter\n",
       "  Widgets Documentation</a> for setup instructions.\n",
       "</p>\n",
       "<p>\n",
       "  If you're reading this message in another frontend (for example, a static\n",
       "  rendering on GitHub or <a href=\"https://nbviewer.jupyter.org/\">NBViewer</a>),\n",
       "  it may mean that your frontend doesn't currently support widgets.\n",
       "</p>\n"
      ],
      "text/plain": [
       "HBox(children=(IntProgress(value=1, bar_style='info', max=1), HTML(value='')))"
      ]
     },
     "metadata": {},
     "output_type": "display_data"
    },
    {
     "name": "stdout",
     "output_type": "stream",
     "text": [
      "\n"
     ]
    }
   ],
   "source": [
    "doc2vec_docs = []\n",
    "for id, text in tqdm_notebook(skim_df['text'].iteritems()):\n",
    "    tokens = Sentence(text).tokens()\n",
    "    doc2vec_docs.append(TaggedDocument(tokens, [id]))"
   ]
  },
  {
   "cell_type": "code",
   "execution_count": null,
   "metadata": {},
   "outputs": [],
   "source": [
    "doc2vec_model = Doc2Vec(dm=0, dbow_words=1, vector_size=300, window=8, min_count=5, epochs=10, workers=8)\n",
    "doc2vec_model.build_vocab(docs)\n",
    "doc2vec_model.train(doc2vec_docs, total_examples=model.corpus_count, epochs=model.epochs)"
   ]
  },
  {
   "cell_type": "code",
   "execution_count": 119,
   "metadata": {},
   "outputs": [
    {
     "data": {
      "application/vnd.jupyter.widget-view+json": {
       "model_id": "41c3bb2897eb439b9b3194ecc59c7ed8",
       "version_major": 2,
       "version_minor": 0
      },
      "text/html": [
       "<p>Failed to display Jupyter Widget of type <code>HBox</code>.</p>\n",
       "<p>\n",
       "  If you're reading this message in the Jupyter Notebook or JupyterLab Notebook, it may mean\n",
       "  that the widgets JavaScript is still loading. If this message persists, it\n",
       "  likely means that the widgets JavaScript library is either not installed or\n",
       "  not enabled. See the <a href=\"https://ipywidgets.readthedocs.io/en/stable/user_install.html\">Jupyter\n",
       "  Widgets Documentation</a> for setup instructions.\n",
       "</p>\n",
       "<p>\n",
       "  If you're reading this message in another frontend (for example, a static\n",
       "  rendering on GitHub or <a href=\"https://nbviewer.jupyter.org/\">NBViewer</a>),\n",
       "  it may mean that your frontend doesn't currently support widgets.\n",
       "</p>\n"
      ],
      "text/plain": [
       "HBox(children=(IntProgress(value=1, bar_style='info', max=1), HTML(value='')))"
      ]
     },
     "metadata": {},
     "output_type": "display_data"
    },
    {
     "name": "stdout",
     "output_type": "stream",
     "text": [
      "\n"
     ]
    },
    {
     "data": {
      "text/plain": [
       "True"
      ]
     },
     "execution_count": 119,
     "metadata": {},
     "output_type": "execute_result"
    }
   ],
   "source": [
    "doc2vec_idx = AnnoyIndex(300)\n",
    "\n",
    "for i, v in tqdm_notebook(enumerate(model.docvecs.vectors_docs)):\n",
    "    doc2vec_idx.add_item(i, v)\n",
    "\n",
    "doc2vec_idx.build(10)"
   ]
  },
  {
   "cell_type": "code",
   "execution_count": 161,
   "metadata": {},
   "outputs": [],
   "source": [
    "def query_doc2vec(text, n=10):\n",
    "    vector = doc2vec_model.infer_vector(Sentence(text).tokens())\n",
    "    for ri in doc2vec_idx.get_nns_by_vector(vector, n):\n",
    "        print(skim_df.iloc[ri].text, '\\n')"
   ]
  },
  {
   "cell_type": "code",
   "execution_count": 162,
   "metadata": {},
   "outputs": [
    {
     "name": "stdout",
     "output_type": "stream",
     "text": [
      "No more “hum- bug.” \n",
      "\n",
      "This is all a complete lie. \n",
      "\n",
      "It’s nationwide.” \n",
      "\n",
      "Every delegate matters this year.” \n",
      "\n",
      "This community is non- smoking. \n",
      "\n",
      "Get out.” \n",
      "\n",
      "day of Christmas shopping. \n",
      "\n",
      "This community is non- smoking. \n",
      "\n",
      "This is unbelievable. \n",
      "\n",
      "This is no mainstream media conspiracy. \n",
      "\n"
     ]
    }
   ],
   "source": [
    "query_doc2vec('This is fantastic.')"
   ]
  },
  {
   "cell_type": "code",
   "execution_count": 163,
   "metadata": {},
   "outputs": [
    {
     "name": "stdout",
     "output_type": "stream",
     "text": [
      "And we’re not likely to in the future.” \n",
      "\n",
      "It provides an example of what you can do,” he said. “ \n",
      "\n",
      "They do about 600 shows a year. \n",
      "\n",
      "I was disappointed that they’re not holding it here. \n",
      "\n",
      "We are not going to get bogged down with a lot of rules,” he said. \n",
      "\n",
      "We are not here to tell you what to think,” he said, intro- ducing the discussion. “ \n",
      "\n",
      "And they did. \n",
      "\n",
      "It sounds like they don’t want to be there,’’ Cullen said. ‘‘ \n",
      "\n",
      "I’m hoping there will be a quick solution,” Gregoire said. “ \n",
      "\n",
      "Somebody’s going to pay for this and it’s going to be taxpayers.” \n",
      "\n"
     ]
    }
   ],
   "source": [
    "query_doc2vec(\"I'm worried about the future.\")"
   ]
  },
  {
   "cell_type": "markdown",
   "metadata": {},
   "source": [
    "# Sentence ordering"
   ]
  },
  {
   "cell_type": "code",
   "execution_count": 124,
   "metadata": {},
   "outputs": [
    {
     "data": {
      "application/vnd.jupyter.widget-view+json": {
       "model_id": "361039000fa54d60a75ab89e2b98a400",
       "version_major": 2,
       "version_minor": 0
      },
      "text/html": [
       "<p>Failed to display Jupyter Widget of type <code>HBox</code>.</p>\n",
       "<p>\n",
       "  If you're reading this message in the Jupyter Notebook or JupyterLab Notebook, it may mean\n",
       "  that the widgets JavaScript is still loading. If this message persists, it\n",
       "  likely means that the widgets JavaScript library is either not installed or\n",
       "  not enabled. See the <a href=\"https://ipywidgets.readthedocs.io/en/stable/user_install.html\">Jupyter\n",
       "  Widgets Documentation</a> for setup instructions.\n",
       "</p>\n",
       "<p>\n",
       "  If you're reading this message in another frontend (for example, a static\n",
       "  rendering on GitHub or <a href=\"https://nbviewer.jupyter.org/\">NBViewer</a>),\n",
       "  it may mean that your frontend doesn't currently support widgets.\n",
       "</p>\n"
      ],
      "text/plain": [
       "HBox(children=(IntProgress(value=0, max=100000), HTML(value='')))"
      ]
     },
     "metadata": {},
     "output_type": "display_data"
    },
    {
     "name": "stdout",
     "output_type": "stream",
     "text": [
      "\n"
     ]
    },
    {
     "data": {
      "text/plain": [
       "True"
      ]
     },
     "execution_count": 124,
     "metadata": {},
     "output_type": "execute_result"
    }
   ],
   "source": [
    "sent_order_idx = AnnoyIndex(1000)\n",
    "\n",
    "id_text = list(skim_df['text'].iteritems())\n",
    "\n",
    "for chunk in chunked_iter(tqdm_notebook(id_text), 1000):\n",
    "\n",
    "    ids, texts = zip(*chunk)\n",
    "\n",
    "    x = [Sentence(t).sent_order_x() for t in texts]\n",
    "    x = sent_encoder(x)\n",
    "\n",
    "    for i, v in zip(ids, x):\n",
    "        sent_order_idx.add_item(i, v.data.tolist())\n",
    "\n",
    "sent_order_idx.build(10)"
   ]
  },
  {
   "cell_type": "code",
   "execution_count": 136,
   "metadata": {},
   "outputs": [],
   "source": [
    "def query_sent_order(text, n=10):\n",
    "    vector = Sentence(text).sent_order_vector()\n",
    "    for ri in sent_order_idx.get_nns_by_vector(vector, n):\n",
    "        print(skim_df.iloc[ri].text, '\\n')"
   ]
  },
  {
   "cell_type": "code",
   "execution_count": 166,
   "metadata": {},
   "outputs": [
    {
     "name": "stdout",
     "output_type": "stream",
     "text": [
      "This is unbelievable. \n",
      "\n",
      "This is great for children, grandchildren, best friends and families. \n",
      "\n",
      "This is very exciting,” Miller said. “ \n",
      "\n",
      "This is one impressive wordsmith. \n",
      "\n",
      "This is Wisconsin,” a confident Ng said. “ \n",
      "\n",
      "This is a way of encouraging use — it’s just a rather crude way.” \n",
      "\n",
      "This isn’t Nevada. \n",
      "\n",
      "This is a whole new level of politics,” said Duffy. “ \n",
      "\n",
      "This is a ﬁ ne example of the Elks “Caring and Sharing.” \n",
      "\n",
      "This hearing aid is amazing! \n",
      "\n"
     ]
    }
   ],
   "source": [
    "query_sent_order('This is fantastic.')"
   ]
  },
  {
   "cell_type": "code",
   "execution_count": 160,
   "metadata": {},
   "outputs": [
    {
     "name": "stdout",
     "output_type": "stream",
     "text": [
      "I love him very much and see myself with him in the future. \n",
      "\n",
      "I'm worried that my distance is affecting her health. \n",
      "\n",
      "I'm afraid she won't make it that long. \n",
      "\n",
      "I think we all hope it won’t mean the end of Kodak because it still has a lot to offer.” \n",
      "\n",
      "I'm afraid for her safety. \n",
      "\n",
      "I hope we meet again some day. \n",
      "\n",
      "I wish she would have discussed her plan with me in advance. \n",
      "\n",
      "I believe any time you do something good and excit- ing it will attract people to your location. \n",
      "\n",
      "I have serious concerns. “ \n",
      "\n",
      "I think anybody that can beat Obama is great,” he said. “ \n",
      "\n"
     ]
    }
   ],
   "source": [
    "query_sent_order(\"I'm worried about the future.\")"
   ]
  },
  {
   "cell_type": "markdown",
   "metadata": {},
   "source": [
    "# CBOW"
   ]
  },
  {
   "cell_type": "code",
   "execution_count": 144,
   "metadata": {},
   "outputs": [
    {
     "data": {
      "application/vnd.jupyter.widget-view+json": {
       "model_id": "734bfd1989a6475f85ed4410fb1fe460",
       "version_major": 2,
       "version_minor": 0
      },
      "text/html": [
       "<p>Failed to display Jupyter Widget of type <code>HBox</code>.</p>\n",
       "<p>\n",
       "  If you're reading this message in the Jupyter Notebook or JupyterLab Notebook, it may mean\n",
       "  that the widgets JavaScript is still loading. If this message persists, it\n",
       "  likely means that the widgets JavaScript library is either not installed or\n",
       "  not enabled. See the <a href=\"https://ipywidgets.readthedocs.io/en/stable/user_install.html\">Jupyter\n",
       "  Widgets Documentation</a> for setup instructions.\n",
       "</p>\n",
       "<p>\n",
       "  If you're reading this message in another frontend (for example, a static\n",
       "  rendering on GitHub or <a href=\"https://nbviewer.jupyter.org/\">NBViewer</a>),\n",
       "  it may mean that your frontend doesn't currently support widgets.\n",
       "</p>\n"
      ],
      "text/plain": [
       "HBox(children=(IntProgress(value=1, bar_style='info', max=1), HTML(value='')))"
      ]
     },
     "metadata": {},
     "output_type": "display_data"
    },
    {
     "name": "stdout",
     "output_type": "stream",
     "text": [
      "\n"
     ]
    },
    {
     "data": {
      "text/plain": [
       "True"
      ]
     },
     "execution_count": 144,
     "metadata": {},
     "output_type": "execute_result"
    }
   ],
   "source": [
    "cbow_idx = AnnoyIndex(300)\n",
    "\n",
    "for id, text in tqdm_notebook(skim_df['text'].iteritems()):\n",
    "    vector = Sentence(text).cbow_vector()\n",
    "    cbow_idx.add_item(id, vector)\n",
    "    \n",
    "cbow_idx.build(10)"
   ]
  },
  {
   "cell_type": "code",
   "execution_count": 147,
   "metadata": {},
   "outputs": [],
   "source": [
    "def query_cbow(text, n=10):\n",
    "    vector = Sentence(text).cbow_vector()\n",
    "    for ri in cbow_idx.get_nns_by_vector(vector, n):\n",
    "        print(skim_df.iloc[ri].text, '\\n')"
   ]
  },
  {
   "cell_type": "code",
   "execution_count": 148,
   "metadata": {},
   "outputs": [
    {
     "name": "stdout",
     "output_type": "stream",
     "text": [
      "This is unbelievable. \n",
      "\n",
      "This is just so wonderful.” \n",
      "\n",
      "This is just so wonderful.” \n",
      "\n",
      "This is ridiculous. \n",
      "\n",
      "This is horrible. \n",
      "\n",
      "It’s so wonderful. \n",
      "\n",
      "It’s just amazing. \n",
      "\n",
      "This is our liveli- hood. \n",
      "\n",
      "It’s not pretty. \n",
      "\n",
      "This is payback. \n",
      "\n"
     ]
    }
   ],
   "source": [
    "query_cbow('This is fantastic.')"
   ]
  },
  {
   "cell_type": "code",
   "execution_count": 159,
   "metadata": {},
   "outputs": [
    {
     "name": "stdout",
     "output_type": "stream",
     "text": [
      "I have considered seeing a therapist, but I don’t know how I can do that with- out giving my parents an explanation about why I’m going. \n",
      "\n",
      "I feel very good about where I’m at. \n",
      "\n",
      "I’m very proud of what they did. \n",
      "\n",
      "I'm open to just about anything.\" \n",
      "\n",
      "I know I might be mis- taking love for infatua- tion — I’ve heard all this before. \n",
      "\n",
      "I’m so hurt, I guess I’m just look- ing for some input into this. \n",
      "\n",
      "I didn’t really have time to think about it. \n",
      "\n",
      "I count all the states I’m glad I’m not the governor of.” \n",
      "\n",
      "So I called dad, be- cause I wanted to know all the details.” \n",
      "\n",
      "Until read- ing this book I knew little about this man, and now I want to know more. \n",
      "\n"
     ]
    }
   ],
   "source": [
    "query_cbow(\"I'm worried about the future.\")"
   ]
  },
  {
   "cell_type": "markdown",
   "metadata": {},
   "source": [
    "# sent2vec"
   ]
  },
  {
   "cell_type": "code",
   "execution_count": 152,
   "metadata": {},
   "outputs": [
    {
     "data": {
      "application/vnd.jupyter.widget-view+json": {
       "model_id": "8d44f25d7d944f2bbca51497cf500c0b",
       "version_major": 2,
       "version_minor": 0
      },
      "text/html": [
       "<p>Failed to display Jupyter Widget of type <code>HBox</code>.</p>\n",
       "<p>\n",
       "  If you're reading this message in the Jupyter Notebook or JupyterLab Notebook, it may mean\n",
       "  that the widgets JavaScript is still loading. If this message persists, it\n",
       "  likely means that the widgets JavaScript library is either not installed or\n",
       "  not enabled. See the <a href=\"https://ipywidgets.readthedocs.io/en/stable/user_install.html\">Jupyter\n",
       "  Widgets Documentation</a> for setup instructions.\n",
       "</p>\n",
       "<p>\n",
       "  If you're reading this message in another frontend (for example, a static\n",
       "  rendering on GitHub or <a href=\"https://nbviewer.jupyter.org/\">NBViewer</a>),\n",
       "  it may mean that your frontend doesn't currently support widgets.\n",
       "</p>\n"
      ],
      "text/plain": [
       "HBox(children=(IntProgress(value=1, bar_style='info', max=1), HTML(value='')))"
      ]
     },
     "metadata": {},
     "output_type": "display_data"
    },
    {
     "name": "stdout",
     "output_type": "stream",
     "text": [
      "\n"
     ]
    },
    {
     "data": {
      "text/plain": [
       "True"
      ]
     },
     "execution_count": 152,
     "metadata": {},
     "output_type": "execute_result"
    }
   ],
   "source": [
    "sent2vec_idx = AnnoyIndex(600)\n",
    "\n",
    "for id, text in tqdm_notebook(skim_df['text'].iteritems()):\n",
    "    vector = Sentence(text).sent2vec_vector()\n",
    "    sent2vec_idx.add_item(id, vector)\n",
    "    \n",
    "sent2vec_idx.build(10)"
   ]
  },
  {
   "cell_type": "code",
   "execution_count": 153,
   "metadata": {},
   "outputs": [],
   "source": [
    "def query_sent2vec(text, n=10):\n",
    "    vector = Sentence(text).sent2vec_vector()\n",
    "    for ri in sent2vec_idx.get_nns_by_vector(vector, n):\n",
    "        print(skim_df.iloc[ri].text, '\\n')"
   ]
  },
  {
   "cell_type": "code",
   "execution_count": 157,
   "metadata": {},
   "outputs": [
    {
     "name": "stdout",
     "output_type": "stream",
     "text": [
      "DARRELL PENDERGRASS But now, Shep is old. \n",
      "\n",
      "This is horrible. \n",
      "\n",
      "Christ is Risen. \n",
      "\n",
      "Spring Has Sprung ◆ First Communion Mother’s Day is Coming! \n",
      "\n",
      "Spring Has Sprung ◆ First Communion Mother’s Day is Coming! \n",
      "\n",
      "Ashland Spring Has Sprung ◆ First Communion Mother’s Day is Coming! \n",
      "\n",
      "Everyone is welcome. \n",
      "\n",
      "Everyone is welcome. \n",
      "\n",
      "What is … An editorial? \n",
      "\n",
      "Registration is required. \n",
      "\n"
     ]
    }
   ],
   "source": [
    "query_sent2vec(\"This is fantastic.\")"
   ]
  },
  {
   "cell_type": "code",
   "execution_count": 158,
   "metadata": {},
   "outputs": [
    {
     "name": "stdout",
     "output_type": "stream",
     "text": [
      "She's becoming increasingly con- trolling and worried about my soul. \n",
      "\n",
      "We do not know how to address this with government policies, even though the nation has worried about it for almost 50 years. \n",
      "\n",
      "Leo doesn’t know much about the Healing Circle Run/Walk, but he knows it’s important to his grandfather and tribe. \n",
      "\n",
      "Congress is asking the administration for docu- ments about the attack, in hopes of building a timeline of what the gov- ernment knew and when. “ \n",
      "\n",
      "And this election isn’t just about what we think about unions. \n",
      "\n",
      "OK, we'll return to it again and think about it.\" \n",
      "\n",
      "Until read- ing this book I knew little about this man, and now I want to know more. \n",
      "\n",
      "I didn’t know about these, did you?” \n",
      "\n",
      "Now they’re talking about doing it at future slumber parties, so I’m not sure how to handle it. \n",
      "\n",
      "Wu declined to comment on what Apple might know about scalpers buying iPhones for resale. \n",
      "\n"
     ]
    }
   ],
   "source": [
    "query_sent2vec(\"I'm worried about the future.\")"
   ]
  },
  {
   "cell_type": "code",
   "execution_count": null,
   "metadata": {},
   "outputs": [],
   "source": []
  }
 ],
 "metadata": {
  "kernelspec": {
   "display_name": "Python 3",
   "language": "python",
   "name": "python3"
  },
  "language_info": {
   "codemirror_mode": {
    "name": "ipython",
    "version": 3
   },
   "file_extension": ".py",
   "mimetype": "text/x-python",
   "name": "python",
   "nbconvert_exporter": "python",
   "pygments_lexer": "ipython3",
   "version": "3.6.4"
  }
 },
 "nbformat": 4,
 "nbformat_minor": 2
}
