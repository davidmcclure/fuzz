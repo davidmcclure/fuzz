{
 "cells": [
  {
   "cell_type": "code",
   "execution_count": 1,
   "metadata": {},
   "outputs": [],
   "source": [
    "import attr\n",
    "import os\n",
    "import spacy\n",
    "import re\n",
    "import sent2vec\n",
    "\n",
    "import numpy as np\n",
    "\n",
    "from annoy import AnnoyIndex\n",
    "from cached_property import cached_property\n",
    "from glob import glob\n",
    "from tqdm import tqdm_notebook\n",
    "from itertools import islice\n",
    "from boltons.iterutils import chunked_iter"
   ]
  },
  {
   "cell_type": "code",
   "execution_count": 2,
   "metadata": {},
   "outputs": [],
   "source": [
    "nlp = spacy.load('en')\n",
    "nlp.add_pipe(nlp.create_pipe('sentencizer'))"
   ]
  },
  {
   "cell_type": "code",
   "execution_count": 4,
   "metadata": {},
   "outputs": [],
   "source": [
    "model = sent2vec.Sent2vecModel()\n",
    "model.load_model('../data/wiki_unigrams.bin')"
   ]
  },
  {
   "cell_type": "code",
   "execution_count": 5,
   "metadata": {},
   "outputs": [],
   "source": [
    "def clean_text(text):\n",
    "    return re.sub('[\\s]{2,}|\\n', ' ', text.strip())"
   ]
  },
  {
   "cell_type": "code",
   "execution_count": 13,
   "metadata": {},
   "outputs": [],
   "source": [
    "@attr.s\n",
    "class Sentence:\n",
    "    \n",
    "    text = attr.ib()\n",
    "        \n",
    "    @cached_property\n",
    "    def doc(self):\n",
    "        return nlp(self.text, disable=['parser', 'tagger', 'ner'])\n",
    "    \n",
    "    def embedding(self):\n",
    "        return model.embed_sentence(self.text)"
   ]
  },
  {
   "cell_type": "code",
   "execution_count": 14,
   "metadata": {},
   "outputs": [],
   "source": [
    "@attr.s\n",
    "class Segment:\n",
    "    \n",
    "    path = attr.ib()\n",
    "    \n",
    "    def text(self):\n",
    "        with open(self.path) as fh:\n",
    "            return clean_text(fh.read())\n",
    "        \n",
    "    @cached_property\n",
    "    def doc(self):\n",
    "        return nlp(self.text(), disable=['tokenizer', 'parser', 'tagger', 'ner'])\n",
    "    \n",
    "    def sentences(self):\n",
    "        for sent in self.doc.sents:\n",
    "            yield Sentence(sent.text)"
   ]
  },
  {
   "cell_type": "code",
   "execution_count": 15,
   "metadata": {},
   "outputs": [],
   "source": [
    "@attr.s\n",
    "class NewspaperCorpus:\n",
    "    \n",
    "    root = attr.ib()\n",
    "    \n",
    "    def paths(self):\n",
    "        return glob(os.path.join(self.root, '**/*.txt'), recursive=True)\n",
    "    \n",
    "    def segments(self):\n",
    "        for path in tqdm_notebook(self.paths()):\n",
    "            yield Segment(path)\n",
    "            \n",
    "    def sentences(self):\n",
    "        for segment in self.segments():\n",
    "            yield from segment.sentences()"
   ]
  },
  {
   "cell_type": "code",
   "execution_count": 16,
   "metadata": {},
   "outputs": [],
   "source": [
    "c = NewspaperCorpus('../data/kathy2012/newspapers2012/')"
   ]
  },
  {
   "cell_type": "code",
   "execution_count": 25,
   "metadata": {},
   "outputs": [
    {
     "data": {
      "application/vnd.jupyter.widget-view+json": {
       "model_id": "69c89c62de364895a5dd88a3b582a9aa",
       "version_major": 2,
       "version_minor": 0
      },
      "text/html": [
       "<p>Failed to display Jupyter Widget of type <code>HBox</code>.</p>\n",
       "<p>\n",
       "  If you're reading this message in the Jupyter Notebook or JupyterLab Notebook, it may mean\n",
       "  that the widgets JavaScript is still loading. If this message persists, it\n",
       "  likely means that the widgets JavaScript library is either not installed or\n",
       "  not enabled. See the <a href=\"https://ipywidgets.readthedocs.io/en/stable/user_install.html\">Jupyter\n",
       "  Widgets Documentation</a> for setup instructions.\n",
       "</p>\n",
       "<p>\n",
       "  If you're reading this message in another frontend (for example, a static\n",
       "  rendering on GitHub or <a href=\"https://nbviewer.jupyter.org/\">NBViewer</a>),\n",
       "  it may mean that your frontend doesn't currently support widgets.\n",
       "</p>\n"
      ],
      "text/plain": [
       "HBox(children=(IntProgress(value=0, max=7437), HTML(value='')))"
      ]
     },
     "metadata": {},
     "output_type": "display_data"
    }
   ],
   "source": [
    "sents = {\n",
    "    i: sent\n",
    "    for i, sent in enumerate(islice(c.sentences(), 500000))\n",
    "}"
   ]
  },
  {
   "cell_type": "code",
   "execution_count": 26,
   "metadata": {},
   "outputs": [
    {
     "data": {
      "text/plain": [
       "500000"
      ]
     },
     "execution_count": 26,
     "metadata": {},
     "output_type": "execute_result"
    }
   ],
   "source": [
    "len(sents)"
   ]
  },
  {
   "cell_type": "code",
   "execution_count": 27,
   "metadata": {},
   "outputs": [
    {
     "data": {
      "application/vnd.jupyter.widget-view+json": {
       "model_id": "649854c0adb84e61ae1617cd7178674c",
       "version_major": 2,
       "version_minor": 0
      },
      "text/html": [
       "<p>Failed to display Jupyter Widget of type <code>HBox</code>.</p>\n",
       "<p>\n",
       "  If you're reading this message in the Jupyter Notebook or JupyterLab Notebook, it may mean\n",
       "  that the widgets JavaScript is still loading. If this message persists, it\n",
       "  likely means that the widgets JavaScript library is either not installed or\n",
       "  not enabled. See the <a href=\"https://ipywidgets.readthedocs.io/en/stable/user_install.html\">Jupyter\n",
       "  Widgets Documentation</a> for setup instructions.\n",
       "</p>\n",
       "<p>\n",
       "  If you're reading this message in another frontend (for example, a static\n",
       "  rendering on GitHub or <a href=\"https://nbviewer.jupyter.org/\">NBViewer</a>),\n",
       "  it may mean that your frontend doesn't currently support widgets.\n",
       "</p>\n"
      ],
      "text/plain": [
       "HBox(children=(IntProgress(value=0, max=500000), HTML(value='')))"
      ]
     },
     "metadata": {},
     "output_type": "display_data"
    },
    {
     "name": "stdout",
     "output_type": "stream",
     "text": [
      "\n"
     ]
    },
    {
     "name": "stderr",
     "output_type": "stream",
     "text": [
      "Exception in thread Thread-9:\n",
      "Traceback (most recent call last):\n",
      "  File \"/usr/local/Cellar/python3/3.6.2/Frameworks/Python.framework/Versions/3.6/lib/python3.6/threading.py\", line 916, in _bootstrap_inner\n",
      "    self.run()\n",
      "  File \"/Users/dclure/Projects/infuzzy/env/lib/python3.6/site-packages/tqdm/_tqdm.py\", line 144, in run\n",
      "    for instance in self.tqdm_cls._instances:\n",
      "  File \"/usr/local/bin/../Cellar/python3/3.6.2/bin/../Frameworks/Python.framework/Versions/3.6/lib/python3.6/_weakrefset.py\", line 60, in __iter__\n",
      "    for itemref in self.data:\n",
      "RuntimeError: Set changed size during iteration\n",
      "\n"
     ]
    },
    {
     "name": "stdout",
     "output_type": "stream",
     "text": [
      "\n"
     ]
    },
    {
     "data": {
      "text/plain": [
       "True"
      ]
     },
     "execution_count": 27,
     "metadata": {},
     "output_type": "execute_result"
    }
   ],
   "source": [
    "vidx = AnnoyIndex(600)\n",
    "\n",
    "for i, sent in tqdm_notebook(sents.items()):\n",
    "    vidx.add_item(i, sent.embedding())\n",
    "    \n",
    "vidx.build(10)"
   ]
  },
  {
   "cell_type": "code",
   "execution_count": 28,
   "metadata": {},
   "outputs": [],
   "source": [
    "def query(text, n=10):\n",
    "    sent = Sentence(text)\n",
    "    for ri in vidx.get_nns_by_vector(sent.embedding(), n):\n",
    "        print(sents[ri].text, '\\n')"
   ]
  },
  {
   "cell_type": "code",
   "execution_count": 29,
   "metadata": {},
   "outputs": [
    {
     "name": "stdout",
     "output_type": "stream",
     "text": [
      "If we want our schools to thrive we need to get more work out of the great teachers while dumping the bad ones. \n",
      "\n",
      "As we obsess over who is right or wrong, we are los- ing focus of what really matters: our future, our children. \n",
      "\n",
      "We hope people come out to the event because it keeps the local area music going and helps out our youth athletics, which are so important for developing the area and keeping kids out of trouble,” Cazel said. \n",
      "\n",
      "Our job in govern- ment is to make the soil rich, educate our children in quality schools we are proud of, make our com- munities safe, train our workers in the latest tech- nologies, keep our envi- ronment clean and healthy, modernize our transpor- tation and communication networks, and support a quality of life we enjoy. “ \n",
      "\n",
      "Often, they do a far better job shaping the minds and character of our youth than do our colleges. \n",
      "\n",
      "However, we concluded that turning the page on this legacy legal issue through the positive steps we are taking is in the best interests of the com- pany, our employees, our dealers and, most of all, our customers.” \n",
      "\n",
      "Our present ad- ministration is acting as if it knows bet- ter than we do how to take care of our health, raise our children and practice our religion. \n",
      "\n",
      "I want those calls to cease and the way we do that is to make sure our police are fighting violent crime.” \n",
      "\n",
      "Today’s our last day here, we head back to Jersey tomorrow, but we’ve enjoyed our stay here,” he said. \n",
      "\n",
      "If we choose not to properly educate our young people, we will suffer the conse- quences for generations. \n",
      "\n"
     ]
    }
   ],
   "source": [
    "query(\"I mean our kids are really well educated, but we need to take politics out of the education system.\")"
   ]
  },
  {
   "cell_type": "code",
   "execution_count": 30,
   "metadata": {},
   "outputs": [
    {
     "name": "stdout",
     "output_type": "stream",
     "text": [
      "I think this is going to set down the predicate for the fall election and I think it’s going to show the country that Wisconsin is going to be very close for the presiden- tial election and I think that (Mitt) Romney’s going to take another look at Wiscon- sin and he’s going to be here a lot more,” Thompson said. “ \n",
      "\n",
      "I don’t think you’re going to see that tomorrow.” \n",
      "\n",
      "Referring to Romney, he said, ‘‘I think he’s going to find this a long campaign.’’ \n",
      "\n",
      "Referring to Romney, he said, ‘‘I think he’s going to find this a long campaign.’’ \n",
      "\n",
      "I don’t think I’m ever going to know the truth,” he said. \n",
      "\n",
      "I just don’t think that’s fair,” Rep. James McGovern, D-Mass., \n",
      "\n",
      "I just think it’s a terrible situation and I think that if they can’t come to a decision over the next few weeks, then the Super Bowl will not be anything to watch, either.” \n",
      "\n",
      "But while standing near Moser and Autumn on Sunday, she added: “I think he’s going to get to know one real well.” “ \n",
      "\n",
      "I think that it’s really cool to have something this big … locally.” \n",
      "\n",
      "I think in the case of everyone but the gover- nor, the leaks need to just stop. \n",
      "\n"
     ]
    }
   ],
   "source": [
    "query(\"my major concern is the fact that we're just going to pass this debt on to the kids, and I think that's embarrassing.\")"
   ]
  },
  {
   "cell_type": "code",
   "execution_count": 31,
   "metadata": {},
   "outputs": [
    {
     "name": "stdout",
     "output_type": "stream",
     "text": [
      "A manufactur- ing renaissance is being preached both from the White House, on the GOP campaign trail and in Super Bowl commercials. \n",
      "\n",
      "Regardless of lofty notions and pas- sionately held ideals, nothing on the candidates’ wish lists will be accom- plished if legislators do not learn to work together. \n",
      "\n",
      "The only thing I can say is that the fund had been set up under the guidance of the GAB (Government Account- ability Board),’’ campaign spokeswoman Ciara Matthews said. ‘‘ \n",
      "\n",
      "My name is Rick Santo- rum, and I am the only authentic, passionate con- servative who can unite the GOP,’’ Santorum wrote in a fundraising missive sent as Iowa caucus votes were being tallied in a race he barely ‘‘I need an URGENT contribution of at least $35 today to unite con- servative voters and win the lost. \n",
      "\n",
      "Because Dave has been deployed overseas, and Rachel frequently travels on business, they say one of the most rewarding parts of the competition was the chance to spend so much time together. \n",
      "\n",
      "Such a group effort shows what communi- ties are all about. \n",
      "\n",
      "If both parties are com- petitive, it stands to reason elected officials will be more intent on listening to their constituents because they know they won’t be shoo-ins for re-election. \n",
      "\n",
      "In the long run campaign finance re- form should move to a very high posi- tion on the progressive agenda. \n",
      "\n",
      "Today the beaver-licked stump serves as an end table, something she hopes her little heart slice will one day become. \n",
      "\n",
      "Walker’s campaign re- leased a three-paragraph statement touting the gov- ernor’s grass-roots sup- port, saying more than three-quarters of the con- tributions for the latest period were of $50 or less. \n",
      "\n"
     ]
    }
   ],
   "source": [
    "query(\"I wish both sides would work together and accomplish something instead of being on the campaign trail all the time.\")"
   ]
  },
  {
   "cell_type": "code",
   "execution_count": 32,
   "metadata": {},
   "outputs": [
    {
     "name": "stdout",
     "output_type": "stream",
     "text": [
      "I was not allowed. \n",
      "\n",
      "Brown was not in- jured. \n",
      "\n",
      "He was not bullied.’’ \n",
      "\n",
      "While Rodriguez’s run was automatic, Pettersen’s was anything but. \n",
      "\n",
      "Nets were not used. \n",
      "\n",
      "The third deputy was not hurt. \n",
      "\n",
      "The driver was not injured. \n",
      "\n",
      "The baby was not hurt. \n",
      "\n",
      "Santorum was not on the ballot. “ \n",
      "\n",
      "It was not an overstatement. \n",
      "\n"
     ]
    }
   ],
   "source": [
    "query(\"The government was not meant to run health insurance.\")"
   ]
  },
  {
   "cell_type": "code",
   "execution_count": 33,
   "metadata": {},
   "outputs": [
    {
     "name": "stdout",
     "output_type": "stream",
     "text": [
      "Thank you for your time and your vote. – \n",
      "\n",
      "Pizza Participants The Alley Little Caesars Pizza Pub Sixth Street Market- Jada’s Racheli’s Deli Frankie’s Pizza- Best Pepperoni White River Saloon- Best Specialty Rafﬂe and Contest Sponsors DaLous Bistro Ashland Lake Superior Lodge Eldorado’s Country Buds Flower Shoppe AmericInn/Splashland HSI Business Center Omer Nelson Electric Thank you for your support! \n",
      "\n",
      "Special thank you to students and sta(cid:283) of the Eleva-Strum schools for all you’ve done, Pastor Solem for all your kindness and prayers, and the EMT’s for your care and job you did. \n",
      "\n",
      "Thank you for your example and your true grit. — \n",
      "\n",
      "Thank you for your time and consideration. \n",
      "\n",
      "Tank you for trusting me with your business, I have loved making your jewelry! \n",
      "\n",
      "Eau Claire DAVID HANVELT To President Obama: How do you and your family practice your faith? \n",
      "\n",
      "The President and his underlings,” writes one fiery critic, “are your accuser, your judge, your jury and your executioner all wrapped up in one, act- ing in total secrecy and without your even know- ing that he’s accused you and sentenced you to death, and you have no opportunity even to know about, let alone confront and address, his accusations.” \n",
      "\n",
      "Explain why you want visitation restricted, and in the fu- ture your mother’s privacy will be assured. \n",
      "\n",
      "But right now, you don’t deserve to have your power back. \n",
      "\n"
     ]
    }
   ],
   "source": [
    "query(\"There has to be respect for your job and the rules and your employers.\")"
   ]
  },
  {
   "cell_type": "code",
   "execution_count": 34,
   "metadata": {},
   "outputs": [
    {
     "name": "stdout",
     "output_type": "stream",
     "text": [
      "Everyone is welcome! \n",
      "\n",
      "What is … An editorial? \n",
      "\n",
      "Bayfield Mayor Larry MacDonald is proud. “ \n",
      "\n",
      "Today’s Birthdays: Com- poser-conductor John Wil- liams is 80. \n",
      "\n",
      "Actress Mary McCormack is 43. \n",
      "\n",
      "Actor Peter Riegert is 64. \n",
      "\n",
      "Retired MLB All-Star Pete Rose is 71. \n",
      "\n",
      "Author Joyce Carol Oates is 74. \n",
      "\n",
      "It is self-defeating.” \n",
      "\n",
      "Actor Jerry Houser is 60. \n",
      "\n"
     ]
    }
   ],
   "source": [
    "query(\"This is wonderful.\")"
   ]
  },
  {
   "cell_type": "code",
   "execution_count": 35,
   "metadata": {},
   "outputs": [
    {
     "name": "stdout",
     "output_type": "stream",
     "text": [
      "Everyone is welcome! \n",
      "\n",
      "What is … An editorial? \n",
      "\n",
      "Bayfield Mayor Larry MacDonald is proud. “ \n",
      "\n",
      "Today’s Birthdays: Com- poser-conductor John Wil- liams is 80. \n",
      "\n",
      "Actress Mary McCormack is 43. \n",
      "\n",
      "Actor Peter Riegert is 64. \n",
      "\n",
      "Retired MLB All-Star Pete Rose is 71. \n",
      "\n",
      "Author Joyce Carol Oates is 74. \n",
      "\n",
      "It is self-defeating.” \n",
      "\n",
      "Actor Jerry Houser is 60. \n",
      "\n"
     ]
    }
   ],
   "source": [
    "query(\"This is terrible.\")"
   ]
  },
  {
   "cell_type": "code",
   "execution_count": 36,
   "metadata": {},
   "outputs": [
    {
     "name": "stdout",
     "output_type": "stream",
     "text": [
      "It's been almost 20 years. \n",
      "\n",
      "In 2011, 149 saw-whets were caught, while 158 had been processed as of Oct. 29 this year, includ- ing 30 in one night. \n",
      "\n",
      "Dear Abby: I am 20 and have been with my boyfriend, “Griffin,” for five years. \n",
      "\n",
      "For the last 17 years, Colgrove’s partner has been Greg Rigoni of Hurley. \n",
      "\n",
      "CMT Music ’ Animal Cops Miami Å My Wife Top 20 Countdown (N) ’ Å Hates Chris My Wife Parking 700 Club The Sandlot (1993) ››‡ Tom Guiry, Mike Vitar. \n",
      "\n",
      "News (N) Top 20 Countdown ’ Å Zumba Fit Austin Finding Bigfoot ’ Å Tabatha Takes Over Paid Prog. \n",
      "\n",
      "Top 20 Countdown (N) ’ Å My Wife Still Stnd The Parkers Fast Money Halftime CNN Newsroom (N) Comedy RENO 911! \n",
      "\n",
      "Å Top 20 Countdown ’ Å Paid Prog. \n",
      "\n",
      "Murder, She Wrote Å Necessary Roughness Top 20 Video Countdown ’ Paid Prog. \n",
      "\n",
      "Å Housewives/NJ Housewives/NJ Flipping Out Å CMT Music ’ TRIA Cindy C Fareed Zakaria GPS (N) S. Harvey Housewives/NJ Top 20 Countdown ’ Paid Prog. \n",
      "\n"
     ]
    }
   ],
   "source": [
    "query(\"My God, I've been here almost forty years.\")"
   ]
  },
  {
   "cell_type": "code",
   "execution_count": 37,
   "metadata": {},
   "outputs": [
    {
     "name": "stdout",
     "output_type": "stream",
     "text": [
      "Curing the problem will require identifying both the action and the reaction: where the money is coming from, and also where it’s going — not to mention why so much of it is going there. — \n",
      "\n",
      "The primary is the time for us to vote for the best candidate, so that’s what I’m going to do,” Rudrud said. \n",
      "\n",
      "I feel it is time to realize his rhetoric is just political manipulation (telling people what they want to hear) instead of honest campaign promises and vote for someone else in the November, 2012 elections. \n",
      "\n",
      "Town of Waukesha rezoning I just wanted to say how frustrating it is reading articles like this about Walgreens and Aldi needing a place to build. \n",
      "\n",
      "The fact is that there are more reason- able ways for them to save money in this time of disparity but they don’t want to sac- rifice anything and it’s easier to raise the prices. \n",
      "\n",
      "Paul wants to talk about the wisdom of borrowing money from China to dis- perse it to other countries. \n",
      "\n",
      "Is it really going to close down at any min- ute, or what is really going to happen?” \n",
      "\n",
      "The national Democrats and unions are certain to re-evaluate how much money they are going to keep throwing at Wis- consin to do nothing but lose. \n",
      "\n",
      "There’s a lot of implications and a lot of people are watching what the results are going to be, so we’re going to cover it. “ \n",
      "\n",
      "That’s why we want to have consultant money in here to help us make the right decision to 57 YEARS AGO July 27, 1955 Some of You May Remember Somebody up at Carroll College just ran across something that should bring back memories to kolm read- ers. \n",
      "\n"
     ]
    }
   ],
   "source": [
    "query(\"The money going into this campaign is so frustrating to see.\")"
   ]
  },
  {
   "cell_type": "code",
   "execution_count": 38,
   "metadata": {},
   "outputs": [
    {
     "name": "stdout",
     "output_type": "stream",
     "text": [
      "Please see FALK P.2A COMING TUESDAY: DOWNTOWN BUILDING PLANS EXPLORED Join Our Email List! \n",
      "\n",
      "Please see HEROIN P. 2A COMING SATURDAY: BELOIT COMIC STORE CELEBRATES TEN YEARS Join Our Email List! \n",
      "\n",
      "Please see PAGEANT P. 2A COMING WEDNESDAY: LOCAL RECALL ELECTION RESULTS LISTED Join Our Email List! \n",
      "\n",
      "Exclusions apply, see pass. \n",
      "\n",
      "For more information, see www.washburnherita- geassociation.org. \n",
      "\n",
      "Please see Tuesday’s Freeman for the complete notice. \n",
      "\n",
      "We’ll see about that,” Vrakas said. “ \n",
      "\n",
      "Voters instinctively see the court (or prefer to see it) as an independent en- tity, immune to partisan cross fire. \n",
      "\n",
      "We’ll see where the evidence takes us.” \n",
      "\n",
      "I don’t see what Barrett has done for Milwaukee.” \n",
      "\n"
     ]
    }
   ],
   "source": [
    "query(\"Well, I don't see the economy recovering real quickly.\")"
   ]
  },
  {
   "cell_type": "code",
   "execution_count": 39,
   "metadata": {},
   "outputs": [
    {
     "name": "stdout",
     "output_type": "stream",
     "text": [
      "Personally, I kind of feel like his time has passed,” Westrate said. “ \n",
      "\n",
      "There was a time I would have thought it a capital offense to even consid- they really want is their kind of big government. \n",
      "\n",
      "If he keeps talking like that, whole new audiences might do just that. \n",
      "\n",
      "Hunters should sit back and listen too, because it sounds like Kroll wants to give them a bigger role in managing the herd. \n",
      "\n",
      "The governor has ad- dressed this with his son, just like any father would do,” the campaign said 689194 10-16-12 Western Wisconsin Locations Eau Claire Black River Falls Chippewa Falls Tomah Hudson Rice Lake Durand Siren Menomonie Onalaska 888-849-0404 www.miracle-ear-eauclaire.com 689287 • 10-16-12 680482 7-24-12 www. \n",
      "\n",
      "Kim Vogt, a La Crosse sociology pro- fessor, says there is STATE VOICES Drownings Adam Bradley is like a whole bunch of other young volunteers in La Crosse. \n",
      "\n",
      "A vital attitude lost in the non-individ- ualized tests is emphasized in a letter to the editor of the New York Times from a Los Angeles mother, Pamela Beere Briggs, explaining why she has joined the opposition to standardized tests: “A remark our 12-year-old daughter made in sixth grade — ‘There’s a certain part about getting good at something that involves loving it’ — lighted a spark of resistance in me. \n",
      "\n",
      "He said tolerance for minorities is lacking in the U.S. revolution, you are dis- missing the lived experi- ences of millions of your fellow countrymen and women,” Wise said. \n",
      "\n",
      "Beloit is a gateway to our state,” said Deb Frederiksen of Visit Beloit, “So we were happy to start the show here.” \n",
      "\n",
      "This is not the kind of individual one would likely trust with important duties or nice things. \n",
      "\n"
     ]
    }
   ],
   "source": [
    "query(\"So it seems like government in general is kind of unresponsive to your concerns.\")"
   ]
  },
  {
   "cell_type": "code",
   "execution_count": 40,
   "metadata": {},
   "outputs": [
    {
     "name": "stdout",
     "output_type": "stream",
     "text": [
      "You’re allowed to own a gun. \n",
      "\n",
      "■ Obama positioned him- self as a voice of civility and – to a nation of voting par- ents – maturity in the debate over whether health insur- ance plans should cover con- traception. \n",
      "\n",
      "This full color cook- ThThThisisis ff ululll l cococoloolor cococookokok-- book will feature book will feature your recipes and your photos! \n",
      "\n",
      "Another easy way for each of us to help out would be if everyone would get a couple of credit cards and treat your friends and favorite sons to a spend- ing spree. \n",
      "\n",
      "If the Republican Party is to survive, it may need to update its philosophy for the 21st century. \n",
      "\n",
      "All questions should be directed to the Pub- lic Works Department at (715) 682-7061. \n",
      "\n",
      "That means anyone with some cash will be able to own part of a Silicon Valley icon that quickly transformed from dorm-room startup to cultural touchstone. \n",
      "\n",
      "The whole sordid ep- isode should prompt Congress to pass legisla- tion requiring candidates to report large gifts, in- Edwards cluding the no-show and low-show jobs some take to support themselves during campaigns. \n",
      "\n",
      "But a system that allows them to profit from protest might be one to applaud. \n",
      "\n",
      "Should new information come to light, the debate will reopen. \n",
      "\n"
     ]
    }
   ],
   "source": [
    "query(\"They should mind their own business.\")"
   ]
  },
  {
   "cell_type": "code",
   "execution_count": 41,
   "metadata": {},
   "outputs": [
    {
     "name": "stdout",
     "output_type": "stream",
     "text": [
      "I just want to go somewhere else.” – \n",
      "\n",
      "It’s not going to bring my son back, and this is the worst thing any mother could go through.” \n",
      "\n",
      "I knew I was never going to be rich living and working way up-north. \n",
      "\n",
      "What’s going on?” \n",
      "\n",
      "She knows when it goes well because she gets to go to Victory Lane. \n",
      "\n",
      "We’re not only going to get Republicans and Indepen- dents, we’re also going to get discerning Democrats.” \n",
      "\n",
      "8,000 miles on engine. \n",
      "\n",
      "I don’t see any way for it not to go up,” Krokowski said of food prices. \n",
      "\n",
      "I’m not saying, ‘I’m not going to push it, but you guys go ahead,’” Walker said of lawmakers. \n",
      "\n",
      "But that kind of thinking must stop or some- one is going to get hurt or killed. \n",
      "\n"
     ]
    }
   ],
   "source": [
    "query(\"I drove 35 miles one way to go and teach.\")"
   ]
  },
  {
   "cell_type": "code",
   "execution_count": 42,
   "metadata": {},
   "outputs": [
    {
     "name": "stdout",
     "output_type": "stream",
     "text": [
      "States don’t want to cede control of their massive utilities, which rake in billions of dollars in annual revenue. \n",
      "\n",
      "LIGHT SWEET CRUDE 1,000 bbl.- dollars per bbl. \n",
      "\n",
      "LIGHT SWEET CRUDE 1,000 bbl.- dollars per bbl. \n",
      "\n",
      "LIGHT SWEET CRUDE 1,000 bbl.- dollars per bbl. \n",
      "\n",
      "LIGHT SWEET CRUDE 1,000 bbl.- dollars per bbl. \n",
      "\n",
      "LIGHT SWEET CRUDE 1,000 bbl.- dollars per bbl. \n",
      "\n",
      "New Zealand police raided homes and businesses linked to the founder, Kim Dotcom, on Friday and seized guns, millions of dollars and nearly $5 million in luxury cars, officials there said. \n",
      "\n",
      "They accumulate wealth through stock speculation, tax arbitrage, currency manipulation, “outsourcing” and “offshoring” jobs, basically manip- ulating money with no regard for the companies or communities affected. \n",
      "\n",
      "But they also worry Greece will be denied €130 billion in bail- out money if it can’t cut its deficit. \n",
      "\n",
      "The Commis- sion issued its final report this month, and identified nearly half a billion dollars in annual savings from state agencies. \n",
      "\n"
     ]
    }
   ],
   "source": [
    "query(\"It's millions of dollars in taxpayers' money\")"
   ]
  },
  {
   "cell_type": "code",
   "execution_count": null,
   "metadata": {},
   "outputs": [],
   "source": []
  },
  {
   "cell_type": "code",
   "execution_count": null,
   "metadata": {},
   "outputs": [],
   "source": []
  }
 ],
 "metadata": {
  "kernelspec": {
   "display_name": "Python 3",
   "language": "python",
   "name": "python3"
  },
  "language_info": {
   "codemirror_mode": {
    "name": "ipython",
    "version": 3
   },
   "file_extension": ".py",
   "mimetype": "text/x-python",
   "name": "python",
   "nbconvert_exporter": "python",
   "pygments_lexer": "ipython3",
   "version": "3.6.4"
  }
 },
 "nbformat": 4,
 "nbformat_minor": 2
}
